{
 "cells": [
  {
   "cell_type": "code",
   "execution_count": 1,
   "metadata": {},
   "outputs": [
    {
     "data": {
      "text/plain": [
       "'3.6.12'"
      ]
     },
     "execution_count": 1,
     "metadata": {},
     "output_type": "execute_result"
    }
   ],
   "source": [
    "from platform import python_version\n",
    "python_version()"
   ]
  },
  {
   "cell_type": "code",
   "execution_count": 2,
   "metadata": {},
   "outputs": [],
   "source": [
    "import numpy as np\n",
    "import pandas as pd\n",
    "import matplotlib.pyplot as plt\n",
    "import math\n",
    "import os\n",
    "import time\n",
    "from sklearn.metrics import roc_auc_score, log_loss"
   ]
  },
  {
   "cell_type": "code",
   "execution_count": 3,
   "metadata": {},
   "outputs": [
    {
     "name": "stdout",
     "output_type": "stream",
     "text": [
      "WARNING:tensorflow:From C:\\Users\\user\\anaconda3\\envs\\tensorflow1\\lib\\site-packages\\tensorflow_core\\python\\compat\\v2_compat.py:68: disable_resource_variables (from tensorflow.python.ops.variable_scope) is deprecated and will be removed in a future version.\n",
      "Instructions for updating:\n",
      "non-resource variables are not supported in the long term\n"
     ]
    }
   ],
   "source": [
    "import tensorflow.compat.v1 as tf\n",
    "tf.disable_v2_behavior()"
   ]
  },
  {
   "cell_type": "code",
   "execution_count": 4,
   "metadata": {},
   "outputs": [
    {
     "data": {
      "text/plain": [
       "'1.15.0'"
      ]
     },
     "execution_count": 4,
     "metadata": {},
     "output_type": "execute_result"
    }
   ],
   "source": [
    "tf.__version__"
   ]
  },
  {
   "cell_type": "code",
   "execution_count": 7,
   "metadata": {},
   "outputs": [
    {
     "name": "stdout",
     "output_type": "stream",
     "text": [
      "[name: \"/device:CPU:0\"\n",
      "device_type: \"CPU\"\n",
      "memory_limit: 268435456\n",
      "locality {\n",
      "}\n",
      "incarnation: 13882896413962472989\n",
      "]\n"
     ]
    }
   ],
   "source": [
    "from tensorflow.python.client import device_lib\n",
    "print(device_lib.list_local_devices())"
   ]
  },
  {
   "cell_type": "code",
   "execution_count": 8,
   "metadata": {},
   "outputs": [
    {
     "name": "stdout",
     "output_type": "stream",
     "text": [
      "['/device:CPU:0']\n"
     ]
    }
   ],
   "source": [
    "from tensorflow.python.client import device_lib\n",
    "def get_available_devices():\n",
    "    local_device_protos = device_lib.list_local_devices()\n",
    "    return [x.name for x in local_device_protos]\n",
    "print(get_available_devices()) \n",
    "# good output must be => ['/device:CPU:0', '/device:GPU:0']"
   ]
  },
  {
   "cell_type": "markdown",
   "metadata": {},
   "source": [
    "## Functions "
   ]
  },
  {
   "cell_type": "code",
   "execution_count": 9,
   "metadata": {},
   "outputs": [],
   "source": [
    "# Disable warnings in Anaconda\n",
    "import warnings\n",
    "warnings.filterwarnings('ignore')"
   ]
  },
  {
   "cell_type": "code",
   "execution_count": 10,
   "metadata": {},
   "outputs": [],
   "source": [
    "#List of metric for classiffication models \n",
    "\n",
    "def metrics_classific(y,predicted,X):\n",
    "    from sklearn.metrics import confusion_matrix, classification_report, roc_curve, auc, accuracy_score\n",
    "    confusion_matrix = confusion_matrix(y, predicted)\n",
    "    print(confusion_matrix)\n",
    "    print(classification_report(y, predicted))\n",
    "\n",
    "    # Validation ROC-AUC score\n",
    "    from sklearn.metrics import roc_auc_score\n",
    "    valid_score = roc_auc_score(y, predicted)\n",
    "    print('Validation ROC-AUC score:', valid_score)\n",
    "\n",
    "    # AUC score\n",
    "    from sklearn.metrics import  auc\n",
    "    false_positive_rate, true_positive_rate, thresholds = roc_curve(y, predicted)\n",
    "    auc = auc(false_positive_rate, true_positive_rate)\n",
    "    print('Validation AUC score:    ', auc)\n",
    "    print(\"Accuracy: %.2f%%\" % (accuracy_score(y, predicted) * 100.0))"
   ]
  },
  {
   "cell_type": "code",
   "execution_count": 11,
   "metadata": {},
   "outputs": [],
   "source": [
    "def sigmoid(z):\n",
    "    return 1/(1.0 + np.exp(-z))"
   ]
  },
  {
   "cell_type": "code",
   "execution_count": 12,
   "metadata": {},
   "outputs": [],
   "source": [
    "#transform prob_prediction to predictions \n",
    "def predictor(prob_prediction):\n",
    "    return np.array(([propability[0] < propability[1] for propability in prob_prediction]), dtype=int)"
   ]
  },
  {
   "cell_type": "markdown",
   "metadata": {},
   "source": [
    "# Import dataset"
   ]
  },
  {
   "cell_type": "code",
   "execution_count": 13,
   "metadata": {},
   "outputs": [],
   "source": [
    "# can download data from link X_true.csv: \n",
    "X_true = pd.read_csv('X_true.csv').values"
   ]
  },
  {
   "cell_type": "code",
   "execution_count": 14,
   "metadata": {},
   "outputs": [
    {
     "data": {
      "text/plain": [
       "numpy.ndarray"
      ]
     },
     "execution_count": 14,
     "metadata": {},
     "output_type": "execute_result"
    }
   ],
   "source": [
    "y_true = pd.read_csv('y_true.csv').values\n",
    "type(y_true)"
   ]
  },
  {
   "cell_type": "code",
   "execution_count": 15,
   "metadata": {
    "scrolled": true
   },
   "outputs": [
    {
     "data": {
      "text/plain": [
       "((10800, 12288), (10800, 1))"
      ]
     },
     "execution_count": 15,
     "metadata": {},
     "output_type": "execute_result"
    }
   ],
   "source": [
    "X_true.shape, y_true.shape"
   ]
  },
  {
   "cell_type": "markdown",
   "metadata": {},
   "source": [
    "## Split data"
   ]
  },
  {
   "cell_type": "code",
   "execution_count": 16,
   "metadata": {},
   "outputs": [],
   "source": [
    "from sklearn.model_selection import train_test_split\n",
    "seed = 78\n",
    "test_size = 0.33\n",
    "X_train, X_, y_train, y_ = train_test_split(X_true, y_true, test_size=test_size, random_state=seed)\n",
    "X_test, X_validate, y_test, y_validate = train_test_split(X_, y_, test_size=test_size, random_state=seed)"
   ]
  },
  {
   "cell_type": "code",
   "execution_count": 17,
   "metadata": {},
   "outputs": [
    {
     "name": "stdout",
     "output_type": "stream",
     "text": [
      "X_train size : 7236 |X_test size : 2387 |X_validate size : 1177\n"
     ]
    }
   ],
   "source": [
    "print('X_train size :', X_train.shape[0],'|X_test size :', X_test.shape[0],'|X_validate size :', X_validate.shape[0])"
   ]
  },
  {
   "cell_type": "code",
   "execution_count": 18,
   "metadata": {},
   "outputs": [
    {
     "name": "stdout",
     "output_type": "stream",
     "text": [
      "[[939 129]\n",
      " [503 816]]\n",
      "              precision    recall  f1-score   support\n",
      "\n",
      "         0.0       0.65      0.88      0.75      1068\n",
      "         1.0       0.86      0.62      0.72      1319\n",
      "\n",
      "    accuracy                           0.74      2387\n",
      "   macro avg       0.76      0.75      0.73      2387\n",
      "weighted avg       0.77      0.74      0.73      2387\n",
      "\n",
      "Validation ROC-AUC score: 0.7489319879718206\n",
      "Validation AUC score:     0.7489319879718206\n",
      "Accuracy: 73.52%\n",
      "Wall time: 10.3 s\n"
     ]
    }
   ],
   "source": [
    "%%time \n",
    "# Benchmark\n",
    "from sklearn.linear_model import Perceptron\n",
    "Per = Perceptron(random_state=seed).fit(X_train, y_train)\n",
    "predictions = Per.predict(X_test)\n",
    "metrics_classific(y_test,predictions, X_test)"
   ]
  },
  {
   "cell_type": "markdown",
   "metadata": {},
   "source": [
    "# Perceptron"
   ]
  },
  {
   "cell_type": "markdown",
   "metadata": {},
   "source": [
    "## Y_vectors OneHotEncoder preprocessing"
   ]
  },
  {
   "cell_type": "code",
   "execution_count": 19,
   "metadata": {},
   "outputs": [
    {
     "data": {
      "text/plain": [
       "array([[0.],\n",
       "       [1.],\n",
       "       [0.],\n",
       "       ...,\n",
       "       [0.],\n",
       "       [1.],\n",
       "       [1.]])"
      ]
     },
     "execution_count": 19,
     "metadata": {},
     "output_type": "execute_result"
    }
   ],
   "source": [
    "y_train"
   ]
  },
  {
   "cell_type": "code",
   "execution_count": 20,
   "metadata": {},
   "outputs": [],
   "source": [
    "shape = y_train.shape\n",
    "y_orig = y_train.reshape(shape[0],1)\n",
    "\n",
    "from sklearn.preprocessing import OneHotEncoder\n",
    "oneHot = OneHotEncoder()\n",
    "oneHot.fit(y_orig) \n",
    "data_y = oneHot.transform(y_orig).toarray()"
   ]
  },
  {
   "cell_type": "code",
   "execution_count": 21,
   "metadata": {},
   "outputs": [],
   "source": [
    "shape = y_test.shape\n",
    "y_test_orig = y_test.reshape(shape[0],1)\n",
    "\n",
    "from sklearn.preprocessing import OneHotEncoder\n",
    "oneHot = OneHotEncoder()\n",
    "oneHot.fit(y_test_orig) \n",
    "test_y = oneHot.transform(y_test_orig).toarray() "
   ]
  },
  {
   "cell_type": "code",
   "execution_count": 22,
   "metadata": {},
   "outputs": [
    {
     "data": {
      "text/plain": [
       "((7236, 12288), (7236, 2))"
      ]
     },
     "execution_count": 22,
     "metadata": {},
     "output_type": "execute_result"
    }
   ],
   "source": [
    "data_x = X_train \n",
    "data_x.shape, data_y.shape"
   ]
  },
  {
   "cell_type": "code",
   "execution_count": 23,
   "metadata": {},
   "outputs": [
    {
     "data": {
      "text/plain": [
       "array([[1., 0.],\n",
       "       [0., 1.],\n",
       "       [1., 0.],\n",
       "       ...,\n",
       "       [1., 0.],\n",
       "       [0., 1.],\n",
       "       [0., 1.]])"
      ]
     },
     "execution_count": 23,
     "metadata": {},
     "output_type": "execute_result"
    }
   ],
   "source": [
    "data_y"
   ]
  },
  {
   "cell_type": "markdown",
   "metadata": {},
   "source": [
    "## model parameters"
   ]
  },
  {
   "cell_type": "code",
   "execution_count": 31,
   "metadata": {},
   "outputs": [],
   "source": [
    "#Input pretrained parameters\n",
    "W = pd.read_csv('weights.csv',header=None).values\n",
    "b = pd.read_csv('bias.csv',header=None).values\n",
    "\n",
    "W = tf.Variable(tf.convert_to_tensor(W, dtype=tf.float32))\n",
    "b = tf.Variable(tf.convert_to_tensor(np.reshape(b, (2,)), dtype=tf.float32))"
   ]
  },
  {
   "cell_type": "code",
   "execution_count": 32,
   "metadata": {},
   "outputs": [
    {
     "name": "stdout",
     "output_type": "stream",
     "text": [
      "WARNING:tensorflow:From C:\\Users\\user\\anaconda3\\envs\\tensorflow1\\lib\\site-packages\\tensorflow_core\\python\\ops\\nn_impl.py:183: where (from tensorflow.python.ops.array_ops) is deprecated and will be removed in a future version.\n",
      "Instructions for updating:\n",
      "Use tf.where in 2.0, which has the same broadcast rule as np.where\n"
     ]
    }
   ],
   "source": [
    "learning_rate = 0.03\n",
    "L2 =0.0001 #regulization\n",
    "n_epochs = 3000\n",
    "\n",
    "num_features = data_x.shape[1]\n",
    "num_classes = data_y.shape[1]\n",
    "\n",
    "X_hold = tf.placeholder(tf.float32, [None, num_features]) \n",
    "Y_hold = tf.placeholder(tf.float32, [None,num_classes])\n",
    "\n",
    "##random weights\n",
    "#W = tf.Variable(tf.truncated_normal([num_features, num_classes], stddev=0.1))\n",
    "\n",
    "##specific weights\n",
    "#Initial_W = pd.read_csv('Initial_W.csv',header=None).values\n",
    "#W = tf.Variable(tf.convert_to_tensor(Initial_W, dtype=tf.float32))\n",
    "\n",
    "b = tf.Variable(tf.constant(0.1, shape=[num_classes]))\n",
    "\n",
    "Z = tf.matmul(X_hold,W) + b\n",
    "logit = tf.sigmoid(Z)\n",
    "\n",
    "## Cost function\n",
    "loss = tf.reduce_mean(tf.nn.sigmoid_cross_entropy_with_logits(labels=Y_hold, logits=logit)+ L2*tf.nn.l2_loss(W))\n",
    "\n",
    "#logloss = Y_hold * -tf.log(logit) + (1 - Y_hold) * tf.log(1 - logit)\n",
    "#loss = tf.reduce_mean(logloss)\n",
    "\n",
    "#loss = tf.reduce_mean(-tf.reduce_sum(Y_hold * tf.log(logit), reduction_indices=[0]))\n",
    "\n",
    "#Optimizator\n",
    "optimizator = tf.train.GradientDescentOptimizer(learning_rate=learning_rate).minimize(loss) #Gradient Descent\n",
    "#optimizator = tf.train.AdamOptimizer(learning_rate).minimize(loss) # Adam  \n",
    "\n",
    "train_acc = []\n",
    "test_acc = []\n",
    "losses = []\n",
    "aucs = []\n",
    "# Define the accuracy\n",
    "prediction = tf.round(logit)\n",
    "# Bool into float32 type\n",
    "correct = tf.cast(tf.equal(prediction, Y_hold), dtype=tf.float32)\n",
    "# Average\n",
    "accuracy = tf.reduce_mean(correct)"
   ]
  },
  {
   "cell_type": "markdown",
   "metadata": {},
   "source": [
    "## Initial session"
   ]
  },
  {
   "cell_type": "code",
   "execution_count": 34,
   "metadata": {},
   "outputs": [
    {
     "name": "stdout",
     "output_type": "stream",
     "text": [
      "0 th Epoch Train AUC: 0.6438 Loss: 0.6488\n",
      "100 th Epoch Train AUC: 0.6462 Loss: 0.6480\n",
      "200 th Epoch Train AUC: 0.6469 Loss: 0.6471\n",
      "300 th Epoch Train AUC: 0.6391 Loss: 0.6496\n",
      "400 th Epoch Train AUC: 0.6477 Loss: 0.6468\n",
      "500 th Epoch Train AUC: 0.6483 Loss: 0.6464\n",
      "600 th Epoch Train AUC: 0.6506 Loss: 0.6458\n",
      "700 th Epoch Train AUC: 0.6458 Loss: 0.6472\n",
      "800 th Epoch Train AUC: 0.6507 Loss: 0.6465\n",
      "900 th Epoch Train AUC: 0.6520 Loss: 0.6451\n",
      "1000 th Epoch Train AUC: 0.6505 Loss: 0.6453\n",
      "1100 th Epoch Train AUC: 0.6503 Loss: 0.6453\n",
      "1200 th Epoch Train AUC: 0.6542 Loss: 0.6444\n",
      "1300 th Epoch Train AUC: 0.6526 Loss: 0.6444\n",
      "1400 th Epoch Train AUC: 0.6534 Loss: 0.6441\n",
      "1500 th Epoch Train AUC: 0.6542 Loss: 0.6438\n",
      "1600 th Epoch Train AUC: 0.6559 Loss: 0.6437\n",
      "1700 th Epoch Train AUC: 0.6528 Loss: 0.6459\n",
      "1800 th Epoch Train AUC: 0.6378 Loss: 0.6556\n",
      "1900 th Epoch Train AUC: 0.6487 Loss: 0.6456\n",
      "2000 th Epoch Train AUC: 0.6577 Loss: 0.6427\n",
      "2100 th Epoch Train AUC: 0.6414 Loss: 0.6482\n",
      "2200 th Epoch Train AUC: 0.6504 Loss: 0.6449\n",
      "2300 th Epoch Train AUC: 0.6491 Loss: 0.6485\n",
      "2400 th Epoch Train AUC: 0.6225 Loss: 0.6551\n",
      "2500 th Epoch Train AUC: 0.6550 Loss: 0.6432\n",
      "2600 th Epoch Train AUC: 0.6588 Loss: 0.6426\n",
      "2700 th Epoch Train AUC: 0.6592 Loss: 0.6418\n",
      "2800 th Epoch Train AUC: 0.6560 Loss: 0.6426\n",
      "2900 th Epoch Train AUC: 0.6262 Loss: 0.6537\n",
      "Wall time: 19min 12s\n"
     ]
    }
   ],
   "source": [
    "%%time\n",
    "##Initial session\n",
    "saver = tf.train.Saver()\n",
    "\n",
    "with tf.Session() as sess:\n",
    "    # Initialize the variables\n",
    "    sess.run(tf.global_variables_initializer())\n",
    "    #save initial weights\n",
    "    Initial_W = sess.run(W)\n",
    "    \n",
    "    # Gradient descent\n",
    "    for i in range(0,n_epochs):\n",
    "        _, iloss, y_hat, temp_train_acc =  sess.run([optimizator, loss, prediction, accuracy], {X_hold:data_x, Y_hold:data_y})\n",
    "        temp_test_acc = sess.run(accuracy, feed_dict={X_hold:X_test, Y_hold:test_y})\n",
    "        if i%100==0:\n",
    "            train_acc.append(temp_train_acc)\n",
    "            test_acc.append(temp_test_acc)\n",
    "            losses.append(iloss)\n",
    "            aucs.append(roc_auc_score(data_y, y_hat))\n",
    "        if i%100==0:\n",
    "            print('%i th Epoch Train AUC: %.4f Loss: %.4f' % (i, roc_auc_score(data_y, y_hat), iloss))\n",
    "     \n",
    "    # Calculate test auc\n",
    "    prob_predictions = sess.run(Z, feed_dict={X_hold:X_test})\n",
    "    weights = sess.run(W)\n",
    "    bias = sess.run(b)\n",
    "    saver.save(sess, 'example_long')"
   ]
  },
  {
   "cell_type": "code",
   "execution_count": 35,
   "metadata": {
    "scrolled": true
   },
   "outputs": [
    {
     "name": "stdout",
     "output_type": "stream",
     "text": [
      "[[ 299  769]\n",
      " [  92 1227]]\n",
      "              precision    recall  f1-score   support\n",
      "\n",
      "         0.0       0.76      0.28      0.41      1068\n",
      "         1.0       0.61      0.93      0.74      1319\n",
      "\n",
      "    accuracy                           0.64      2387\n",
      "   macro avg       0.69      0.61      0.58      2387\n",
      "weighted avg       0.68      0.64      0.59      2387\n",
      "\n",
      "Validation ROC-AUC score: 0.6051063681770039\n",
      "Validation AUC score:     0.6051063681770039\n",
      "Accuracy: 63.93%\n"
     ]
    }
   ],
   "source": [
    "tensor_predictions = predictor(prob_predictions)\n",
    "metrics_classific(y_test,tensor_predictions, X_test)"
   ]
  },
  {
   "cell_type": "code",
   "execution_count": 45,
   "metadata": {},
   "outputs": [
    {
     "data": {
      "image/png": "[encoded data removed]",
      "text/plain": [
       "<Figure size 432x288 with 1 Axes>"
      ]
     },
     "metadata": {
      "needs_background": "light"
     },
     "output_type": "display_data"
    }
   ],
   "source": [
    "plt.plot(range(3100//100), losses)\n",
    "plt.title('Loss')\n",
    "plt.xlabel('Iteration')\n",
    "_ = plt.ylabel('RMSE') "
   ]
  },
  {
   "cell_type": "code",
   "execution_count": 47,
   "metadata": {},
   "outputs": [
    {
     "data": {
      "image/png": "[encoded data removed]",
      "text/plain": [
       "<Figure size 432x288 with 1 Axes>"
      ]
     },
     "metadata": {
      "needs_background": "light"
     },
     "output_type": "display_data"
    }
   ],
   "source": [
    "plt.plot(range(3100//100), aucs)\n",
    "plt.title('AUC')\n",
    "plt.xlabel('Iteration')\n",
    "_ = plt.ylabel('AUC Score') "
   ]
  },
  {
   "cell_type": "code",
   "execution_count": 48,
   "metadata": {},
   "outputs": [
    {
     "name": "stdout",
     "output_type": "stream",
     "text": [
      "train accuracy : 0.63571036\n",
      "test accuracy : 0.64620864\n"
     ]
    },
    {
     "data": {
      "image/png": "[encoded data removed]",
      "text/plain": [
       "<Figure size 432x288 with 1 Axes>"
      ]
     },
     "metadata": {
      "needs_background": "light"
     },
     "output_type": "display_data"
    }
   ],
   "source": [
    "##learning_rate = 0.1\n",
    "# accuracy\n",
    "plt.plot(train_acc, 'b-', label='train accuracy')\n",
    "plt.plot(test_acc, 'k-', label='test accuracy')\n",
    "plt.xlabel('epoch')\n",
    "plt.ylabel('accuracy')\n",
    "plt.title('Train and Test Accuracy')\n",
    "plt.legend(loc='best')\n",
    "print(\"train accuracy :\",train_acc[-1] )\n",
    "print(\"test accuracy :\",test_acc[-1] )\n",
    "plt.show()"
   ]
  },
  {
   "cell_type": "code",
   "execution_count": 49,
   "metadata": {},
   "outputs": [
    {
     "data": {
      "text/plain": [
       "0.6573104"
      ]
     },
     "execution_count": 49,
     "metadata": {},
     "output_type": "execute_result"
    }
   ],
   "source": [
    "max(test_acc)"
   ]
  },
  {
   "cell_type": "markdown",
   "metadata": {},
   "source": [
    "## restored session 1"
   ]
  },
  {
   "cell_type": "code",
   "execution_count": null,
   "metadata": {},
   "outputs": [],
   "source": []
  },
  {
   "cell_type": "code",
   "execution_count": 50,
   "metadata": {},
   "outputs": [
    {
     "name": "stdout",
     "output_type": "stream",
     "text": [
      "INFO:tensorflow:Restoring parameters from ./example_long\n",
      "0 th Epoch Train AUC: 0.6192 Loss: 0.6561\n",
      "100 th Epoch Train AUC: 0.6595 Loss: 0.6414\n",
      "200 th Epoch Train AUC: 0.6615 Loss: 0.6408\n",
      "300 th Epoch Train AUC: 0.6547 Loss: 0.6431\n",
      "400 th Epoch Train AUC: 0.6445 Loss: 0.6521\n",
      "500 th Epoch Train AUC: 0.6630 Loss: 0.6402\n",
      "600 th Epoch Train AUC: 0.6635 Loss: 0.6402\n",
      "700 th Epoch Train AUC: 0.6189 Loss: 0.6562\n",
      "800 th Epoch Train AUC: 0.6624 Loss: 0.6401\n",
      "900 th Epoch Train AUC: 0.6636 Loss: 0.6398\n",
      "1000 th Epoch Train AUC: 0.6644 Loss: 0.6396\n",
      "1100 th Epoch Train AUC: 0.6627 Loss: 0.6400\n",
      "1200 th Epoch Train AUC: 0.6557 Loss: 0.6425\n",
      "1300 th Epoch Train AUC: 0.6164 Loss: 0.6571\n",
      "1400 th Epoch Train AUC: 0.6651 Loss: 0.6391\n",
      "1500 th Epoch Train AUC: 0.6654 Loss: 0.6392\n",
      "1600 th Epoch Train AUC: 0.6637 Loss: 0.6406\n",
      "1700 th Epoch Train AUC: 0.6615 Loss: 0.6404\n",
      "1800 th Epoch Train AUC: 0.6455 Loss: 0.6516\n",
      "1900 th Epoch Train AUC: 0.6611 Loss: 0.6405\n",
      "2000 th Epoch Train AUC: 0.6650 Loss: 0.6391\n",
      "2100 th Epoch Train AUC: 0.6594 Loss: 0.6410\n",
      "2200 th Epoch Train AUC: 0.6658 Loss: 0.6387\n",
      "2300 th Epoch Train AUC: 0.6573 Loss: 0.6417\n",
      "2400 th Epoch Train AUC: 0.6560 Loss: 0.6422\n",
      "2500 th Epoch Train AUC: 0.6677 Loss: 0.6381\n",
      "2600 th Epoch Train AUC: 0.6116 Loss: 0.6589\n",
      "2700 th Epoch Train AUC: 0.6657 Loss: 0.6386\n",
      "2800 th Epoch Train AUC: 0.6576 Loss: 0.6416\n",
      "2900 th Epoch Train AUC: 0.6557 Loss: 0.6422\n",
      "Wall time: 22min 6s\n"
     ]
    }
   ],
   "source": [
    "%%time\n",
    "##restored session\n",
    "with tf.Session() as sess:\n",
    "    new_saver = tf.train.import_meta_graph('example_long.meta')\n",
    "    sess.run(tf.global_variables_initializer())\n",
    "    new_saver.restore(sess,tf.train.latest_checkpoint('./'))\n",
    "     \n",
    "    # Gradient descent\n",
    "    for i in range(0,n_epochs):\n",
    "        _, iloss, y_hat, temp_train_acc =  sess.run([optimizator, loss, prediction, accuracy], {X_hold:data_x, Y_hold:data_y})\n",
    "        temp_test_acc = sess.run(accuracy, feed_dict={X_hold:X_test, Y_hold:test_y})\n",
    "        if i%100==0:\n",
    "            train_acc.append(temp_train_acc)\n",
    "            test_acc.append(temp_test_acc)\n",
    "            losses.append(iloss)\n",
    "            aucs.append(roc_auc_score(data_y, y_hat))\n",
    "        if i%100==0:\n",
    "            print('%i th Epoch Train AUC: %.4f Loss: %.4f' % (i, roc_auc_score(data_y, y_hat), iloss))\n",
    "    \n",
    "    \n",
    "    # Calculate test auc\n",
    "    prob_predictions = sess.run(Z, feed_dict={X_hold:X_test})\n",
    "    \n",
    "    weights = sess.run(W)\n",
    "    bias = sess.run(b)\n",
    "    #new_saver.save(sess, 'example2')   "
   ]
  },
  {
   "cell_type": "code",
   "execution_count": 51,
   "metadata": {},
   "outputs": [
    {
     "name": "stdout",
     "output_type": "stream",
     "text": [
      "[[ 174  894]\n",
      " [  53 1266]]\n",
      "              precision    recall  f1-score   support\n",
      "\n",
      "         0.0       0.77      0.16      0.27      1068\n",
      "         1.0       0.59      0.96      0.73      1319\n",
      "\n",
      "    accuracy                           0.60      2387\n",
      "   macro avg       0.68      0.56      0.50      2387\n",
      "weighted avg       0.67      0.60      0.52      2387\n",
      "\n",
      "Validation ROC-AUC score: 0.5613696961436567\n",
      "Validation AUC score:     0.5613696961436567\n",
      "Accuracy: 60.33%\n"
     ]
    }
   ],
   "source": [
    "tensor_predictions = predictor(prob_predictions)\n",
    "metrics_classific(y_test,tensor_predictions, X_test)"
   ]
  },
  {
   "cell_type": "code",
   "execution_count": 52,
   "metadata": {},
   "outputs": [
    {
     "data": {
      "image/png": "[encoded data removed]",
      "text/plain": [
       "<Figure size 432x288 with 1 Axes>"
      ]
     },
     "metadata": {
      "needs_background": "light"
     },
     "output_type": "display_data"
    }
   ],
   "source": [
    "plt.plot(range(len(losses)), losses)\n",
    "plt.title('Loss')\n",
    "plt.xlabel('Iteration')\n",
    "_ = plt.ylabel('RMSE') "
   ]
  },
  {
   "cell_type": "code",
   "execution_count": 53,
   "metadata": {},
   "outputs": [
    {
     "name": "stdout",
     "output_type": "stream",
     "text": [
      "train accuracy : 0.66763407\n",
      "test accuracy : 0.6550063\n"
     ]
    },
    {
     "data": {
      "image/png": "[encoded data removed]",
      "text/plain": [
       "<Figure size 432x288 with 1 Axes>"
      ]
     },
     "metadata": {
      "needs_background": "light"
     },
     "output_type": "display_data"
    }
   ],
   "source": [
    "# accuracy\n",
    "plt.plot(train_acc, 'b-', label='train accuracy')\n",
    "plt.plot(test_acc, 'k-', label='test accuracy')\n",
    "plt.xlabel('epoch')\n",
    "plt.ylabel('accuracy')\n",
    "plt.title('Train and Test Accuracy')\n",
    "plt.legend(loc='best')\n",
    "print(\"train accuracy :\",train_acc[-1] )\n",
    "print(\"test accuracy :\",test_acc[-1] )\n",
    "plt.show()"
   ]
  },
  {
   "cell_type": "markdown",
   "metadata": {},
   "source": [
    "## Save model"
   ]
  },
  {
   "cell_type": "code",
   "execution_count": 54,
   "metadata": {},
   "outputs": [],
   "source": [
    "#Save model\n",
    "from numpy import loadtxt\n",
    "np.savetxt('Initial_W.csv', Initial_W, delimiter=',')\n",
    "np.savetxt('weights.csv', weights, delimiter=',')\n",
    "np.savetxt('bias.csv', bias, delimiter=',')"
   ]
  },
  {
   "cell_type": "markdown",
   "metadata": {},
   "source": [
    "# Model validation"
   ]
  },
  {
   "cell_type": "code",
   "execution_count": 55,
   "metadata": {},
   "outputs": [],
   "source": [
    "#Load model\n",
    "weights = pd.read_csv('weights.csv',header=None).values\n",
    "bias = pd.read_csv('bias.csv',header=None).values"
   ]
  },
  {
   "cell_type": "code",
   "execution_count": 56,
   "metadata": {},
   "outputs": [
    {
     "data": {
      "text/plain": [
       "(12288, 2)"
      ]
     },
     "execution_count": 56,
     "metadata": {},
     "output_type": "execute_result"
    }
   ],
   "source": [
    "weights.shape"
   ]
  },
  {
   "cell_type": "code",
   "execution_count": 57,
   "metadata": {},
   "outputs": [
    {
     "name": "stdout",
     "output_type": "stream",
     "text": [
      "[[ 174  894]\n",
      " [  53 1266]]\n",
      "              precision    recall  f1-score   support\n",
      "\n",
      "         0.0       0.77      0.16      0.27      1068\n",
      "         1.0       0.59      0.96      0.73      1319\n",
      "\n",
      "    accuracy                           0.60      2387\n",
      "   macro avg       0.68      0.56      0.50      2387\n",
      "weighted avg       0.67      0.60      0.52      2387\n",
      "\n",
      "Validation ROC-AUC score: 0.5613696961436567\n",
      "Validation AUC score:     0.5613696961436567\n",
      "Accuracy: 60.33%\n",
      "LogLoss : 2.444705514458254\n"
     ]
    }
   ],
   "source": [
    "#check test matrics\n",
    "val_predict = np.dot(np.array(X_test),weights)\n",
    "new_val_predict = np.zeros(shape=(val_predict.shape))\n",
    "for i in range(len(val_predict)):\n",
    "    new_val_predict[i] = [val_predict[i][0]+bias[0], val_predict[i][1]+bias[1]]\n",
    "valudate_predictions = predictor(val_predict)\n",
    "metrics_classific(y_test,valudate_predictions, X_test)  \n",
    "print(\"LogLoss :\", log_loss(y_test,sigmoid(val_predict)))"
   ]
  },
  {
   "cell_type": "code",
   "execution_count": 58,
   "metadata": {},
   "outputs": [
    {
     "name": "stdout",
     "output_type": "stream",
     "text": [
      "[[108 427]\n",
      " [ 28 614]]\n",
      "              precision    recall  f1-score   support\n",
      "\n",
      "         0.0       0.79      0.20      0.32       535\n",
      "         1.0       0.59      0.96      0.73       642\n",
      "\n",
      "    accuracy                           0.61      1177\n",
      "   macro avg       0.69      0.58      0.53      1177\n",
      "weighted avg       0.68      0.61      0.54      1177\n",
      "\n",
      "Validation ROC-AUC score: 0.5791277258566978\n",
      "Validation AUC score:     0.5791277258566978\n",
      "Accuracy: 61.34%\n",
      "LogLoss : 1.907405656328022\n"
     ]
    }
   ],
   "source": [
    "#Model validation\n",
    "val_predict = np.dot(np.array(X_validate),weights)\n",
    "new_val_predict = np.zeros(shape=(val_predict.shape))\n",
    "for i in range(len(val_predict)):\n",
    "    new_val_predict[i] = [val_predict[i][0]+bias[0], val_predict[i][1]+bias[1]]\n",
    "\n",
    "valudate_predictions = predictor(new_val_predict)\n",
    "metrics_classific(y_validate,valudate_predictions, X_validate)\n",
    "print(\"LogLoss :\", log_loss(y_validate,sigmoid(val_predict)))"
   ]
  },
  {
   "cell_type": "code",
   "execution_count": null,
   "metadata": {},
   "outputs": [],
   "source": []
  },
  {
   "cell_type": "code",
   "execution_count": null,
   "metadata": {},
   "outputs": [],
   "source": []
  },
  {
   "cell_type": "code",
   "execution_count": null,
   "metadata": {},
   "outputs": [],
   "source": []
  }
 ],
 "metadata": {
  "kernelspec": {
   "display_name": "tensorflow1",
   "language": "python",
   "name": "tensorflow1"
  },
  "language_info": {
   "codemirror_mode": {
    "name": "ipython",
    "version": 3
   },
   "file_extension": ".py",
   "mimetype": "text/x-python",
   "name": "python",
   "nbconvert_exporter": "python",
   "pygments_lexer": "ipython3",
   "version": "3.6.12"
  },
  "toc": {
   "base_numbering": 1,
   "nav_menu": {},
   "number_sections": true,
   "sideBar": true,
   "skip_h1_title": false,
   "title_cell": "Table of Contents",
   "title_sidebar": "Contents",
   "toc_cell": false,
   "toc_position": {},
   "toc_section_display": true,
   "toc_window_display": false
  }
 },
 "nbformat": 4,
 "nbformat_minor": 4
}
