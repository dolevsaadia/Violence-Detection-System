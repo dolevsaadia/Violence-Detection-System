{
 "cells": [
  {
   "cell_type": "markdown",
   "metadata": {
    "colab_type": "text",
    "id": "-x-x2hhlOKkl"
   },
   "source": [
    "# Violence Detection System\n",
    "\n",
    "by [Dolev saadia (Github)](https://github.com/dolevsaadia)and[George koozi (Github)](https://github.com/georgekouzi)"
   ]
  },
  {
   "cell_type": "markdown",
   "metadata": {
    "colab_type": "text",
    "id": "nRQW1dLqOVO_"
   },
   "source": [
    "## Introduction"
   ]
  },
  {
   "cell_type": "markdown",
   "metadata": {
    "colab_type": "text",
    "id": "a1iagEQ3OXEn"
   },
   "source": [
    "It is a system for detecting violence. \n",
    "\n",
    "The system uses extracting a set of frames belonging to the video, sending them to a pretrained network called ```VGG16```, obtaining the output of one of its final layers and from these outputs train another network called ```LSTM```.\n",
    "\n",
    "LSTM have memory and are able to analyze the temporal information of the video and can distinguish between a video that had violence and a video that did not.\n",
    "\n",
    "\n",
    "If the dataset ```already exists``` than```skip the first step``` which is to download the data.\n",
    "\n",
    "if you want to put your own dataset put it into the project folder, in folder named```data/Violence``` the Violence data and in folder named```data/NonViolence``` the non Violence data. \n",
    "\n"
   ]
  },
  {
   "cell_type": "markdown",
   "metadata": {
    "colab_type": "text",
    "id": "a1iagEQ3OXEn"
   },
   "source": [
    "  ## Prerequisites\n",
    "* [Python3](https://www.python.org/)\n",
    "* [opencv-python](https://pypi.python.org/pypi/opencv-python)\n",
    "* [numpy](http://www.numpy.org)\n",
    "* [matplotlib](https://matplotlib.org/users/installing.html)\n",
    "* [keras](https://pypi.org/project/Keras/)\n",
    "* [h5py](http://docs.h5py.org/en/stable/build.html)\n"
   ]
  },
  {
   "cell_type": "markdown",
   "metadata": {
    "colab_type": "text",
    "id": "a1iagEQ3OXEn"
   },
   "source": [
    "# How to install\n",
    "Make sure python3 and pip is installed.\n",
    "  \n",
    " then install:\n",
    "\n",
    "##### install opencv-python\n",
    "pip install cv2\n",
    "##### install PyWavelets\n",
    "pip install numpy\n",
    "##### install matplotlib\n",
    "python -m pip install -U matplotlib \n",
    "##### install keras\n",
    "pip install Keras\n",
    "##### install h5py\n",
    "pip install h5py"
   ]
  },
  {
   "cell_type": "markdown",
   "metadata": {
    "colab_type": "text",
    "id": "UVXa7uMnOlkp"
   },
   "source": [
    "# Imports"
   ]
  },
  {
   "cell_type": "code",
   "execution_count": 23,
   "metadata": {
    "colab": {
     "base_uri": "https://localhost:8080/",
     "height": 34
    },
    "colab_type": "code",
    "id": "oDfDnlliPMd-",
    "outputId": "7582c7ed-2ba2-4164-e043-d0c8d31ba19f"
   },
   "outputs": [],
   "source": [
    "%matplotlib inline\n",
    "import cv2\n",
    "import os\n",
    "import numpy as np\n",
    "import keras\n",
    "import matplotlib.pyplot as plt\n",
    "import tensorflow.compat.v1 as tf\n",
    "from random import shuffle\n",
    "from tensorflow.keras.applications import VGG16\n",
    "from tensorflow.keras import backend as K\n",
    "from tensorflow.keras.models import Model, Sequential\n",
    "from tensorflow.keras.layers import Input\n",
    "from tensorflow.keras.layers import LSTM\n",
    "from tensorflow.keras.layers import Dense, Activation\n",
    "from tensorflow.keras.models import load_model\n",
    "import sys\n",
    "import h5py\n",
    "import sys\n",
    "import os\n",
    "import urllib.request\n",
    "import tarfile\n",
    "import zipfile"
   ]
  },
  {
   "cell_type": "code",
   "execution_count": 24,
   "metadata": {
    "colab_type": "text",
    "id": "v6pf1l28PzIO"
   },
   "outputs": [
    {
     "data": {
      "text/plain": [
       "'2.4.1'"
      ]
     },
     "execution_count": 24,
     "metadata": {},
     "output_type": "execute_result"
    }
   ],
   "source": [
    "tf.__version__"
   ]
  },
  {
   "cell_type": "markdown",
   "metadata": {
    "colab_type": "text",
    "id": "v6pf1l28PzIO"
   },
   "source": [
    "# Functions for dataset downloads\n",
    "\n",
    "#### We will use the function ``download_data`` to download the datasets"
   ]
  },
  {
   "cell_type": "code",
   "execution_count": 25,
   "metadata": {
    "colab_type": "text",
    "id": "WKnyJkf8PzxE"
   },
   "outputs": [],
   "source": [
    "def download_data(in_dir, url):\n",
    "    \n",
    "    if not os.path.exists(in_dir):\n",
    "        os.makedirs(in_dir)\n",
    "    \n",
    "    maybe_download_and_extract(url,in_dir,'data.zip')"
   ]
  },
  {
   "cell_type": "markdown",
   "metadata": {
    "colab_type": "text",
    "id": "WKnyJkf8PzxE"
   },
   "source": [
    "#### We will use the function ```print_progress``` to print the amount of videos processed."
   ]
  },
  {
   "cell_type": "code",
   "execution_count": 26,
   "metadata": {
    "colab_type": "text",
    "id": "WKnyJkf8PzxE"
   },
   "outputs": [],
   "source": [
    "def print_progress(count, max_count):\n",
    "    # Percentage completion.\n",
    "    pct_complete = count / max_count\n",
    "\n",
    "    # Status-message. Note the \\r which means the line should\n",
    "    # overwrite itself.\n",
    "    msg = \"\\r- Progress: {0:.1%}\".format(pct_complete)\n",
    "\n",
    "    # Print it.\n",
    "    sys.stdout.write(msg)\n",
    "    sys.stdout.flush()"
   ]
  },
  {
   "cell_type": "markdown",
   "metadata": {
    "colab_type": "text",
    "id": "WKnyJkf8PzxE"
   },
   "source": [
    "#### We will use the function ```maybe_download_and_extract``` to Download and extract the data if it doesn't already exist."
   ]
  },
  {
   "cell_type": "code",
   "execution_count": 27,
   "metadata": {
    "colab_type": "text",
    "id": "WKnyJkf8PzxE"
   },
   "outputs": [],
   "source": [
    "def maybe_download_and_extract(url, download_dir,filename):\n",
    "   \n",
    "    file_path = os.path.join(download_dir, filename)\n",
    "    if not os.path.exists(file_path):\n",
    "    \n",
    "        if not os.path.exists(download_dir):\n",
    "            os.makedirs(download_dir)\n",
    "\n",
    "        file_path, _ = urllib.request.urlretrieve(url=url,\n",
    "                                                  filename=file_path,\n",
    "                                                  reporthook=_print_download_progress)\n",
    "        print()\n",
    "        print(\"Download finished. Extracting files.\")\n",
    "\n",
    "        if file_path.endswith(\".zip\"):\n",
    "            zipfile.ZipFile(file=file_path, mode=\"r\").extractall(download_dir)\n",
    "        elif file_path.endswith((\".tar.gz\", \".tgz\")):\n",
    "            tarfile.open(name=file_path, mode=\"r:gz\").extractall(download_dir)\n",
    "\n",
    "        print(\"Done.\")\n",
    "    else:\n",
    "        print(\"Data has apparently already been downloaded and unpacked.\")"
   ]
  },
  {
   "cell_type": "markdown",
   "metadata": {
    "colab_type": "text",
    "id": "WKnyJkf8PzxE"
   },
   "source": [
    "#### We will use the function ```_print_download_progress``` to print the amount of download processed."
   ]
  },
  {
   "cell_type": "code",
   "execution_count": 28,
   "metadata": {
    "colab_type": "text",
    "id": "WKnyJkf8PzxE"
   },
   "outputs": [],
   "source": [
    "def _print_download_progress(count, block_size, total_size):\n",
    "\n",
    "\n",
    "    # Percentage completion.\n",
    "    pct_complete = float(count * block_size) / total_size\n",
    "\n",
    "    # Status-message. Note the \\r which means the line should overwrite itself.\n",
    "    msg = \"\\r- Download progress: {0:.1%}\".format(pct_complete)\n",
    "\n",
    "    # Print it.\n",
    "    sys.stdout.write(msg)\n",
    "    sys.stdout.flush()\n"
   ]
  },
  {
   "cell_type": "markdown",
   "metadata": {
    "colab_type": "text",
    "id": "WKnyJkf8PzxE"
   },
   "source": [
    "#### the url for the dataset``` was takken from ```https://www.kaggle.com/mohamedmustafa/real-life-violence-situations-dataset\n",
    "#### we uploaded the dataset to dropbox.\n",
    "\n",
    "#### define the url."
   ]
  },
  {
   "cell_type": "code",
   "execution_count": 29,
   "metadata": {
    "colab_type": "text",
    "id": "WKnyJkf8PzxE"
   },
   "outputs": [],
   "source": [
    "Dataset_url = \"https://uc0a6ccd14c79e7dcd238b7a5b6e.dl.dropboxusercontent.com/cd/0/get/BGviIYEA84RlPMt7Vf5m9pRLWd5ow6lhmXnqmVwnRrf5iSiQjzC-_wLOorgM-O2OJX0ONhgV35LP2blfJyWcJb_dVTagxkweaTpfVmTJ8dRKnVRYyKMK4lnjC07y-ATgIFY/file\""
   ]
  },
  {
   "cell_type": "markdown",
   "metadata": {
    "colab_type": "text",
    "id": "tRf-KgkjP9Kt"
   },
   "source": [
    "# Load Data\n",
    "\n",
    "#### First of all, we define the directory to place the video dataset"
   ]
  },
  {
   "cell_type": "code",
   "execution_count": 30,
   "metadata": {
    "colab": {},
    "colab_type": "code",
    "id": "RiRKgwBgP-NY"
   },
   "outputs": [],
   "source": [
    "in_dir = \"data\""
   ]
  },
  {
   "cell_type": "code",
   "execution_count": 31,
   "metadata": {
    "colab": {},
    "colab_type": "code",
    "id": "RiRKgwBgP-NY"
   },
   "outputs": [
    {
     "name": "stdout",
     "output_type": "stream",
     "text": [
      "Data has apparently already been downloaded and unpacked.\n"
     ]
    }
   ],
   "source": [
    "download_data(in_dir,Dataset_url)"
   ]
  },
  {
   "cell_type": "code",
   "execution_count": 32,
   "metadata": {
    "colab": {},
    "colab_type": "code",
    "id": "RiRKgwBgP-NY"
   },
   "outputs": [],
   "source": [
    "data_dir = \"data\\Real Life Violence Dataset\""
   ]
  },
  {
   "cell_type": "markdown",
   "metadata": {
    "colab_type": "text",
    "id": "UCZHrpJjRKky"
   },
   "source": [
    "#### Copy some of the data-dimensions for convenience."
   ]
  },
  {
   "cell_type": "code",
   "execution_count": 33,
   "metadata": {
    "colab": {},
    "colab_type": "code",
    "id": "SXTNEj6SRLZZ"
   },
   "outputs": [],
   "source": [
    "# Frame size  \n",
    "img_size = 224\n",
    "\n",
    "img_size_touple = (img_size, img_size)\n",
    "\n",
    "# Number of channels (RGB)\n",
    "num_channels = 3\n",
    "\n",
    "# Flat frame size\n",
    "img_size_flat = img_size * img_size * num_channels\n",
    "\n",
    "# Number of classes for classification (Violence-No Violence)\n",
    "num_classes = 2\n",
    "\n",
    "# Number of files to train\n",
    "_num_files_train = 1\n",
    "\n",
    "# Number of frames per video\n",
    "_images_per_file = 20\n",
    "\n",
    "# Number of frames per training set\n",
    "_num_images_train = _num_files_train * _images_per_file\n",
    "\n",
    "# Video extension\n",
    "video_exts = \".avi\""
   ]
  },
  {
   "cell_type": "markdown",
   "metadata": {
    "colab_type": "text",
    "id": "Wodq7EaSRSS8"
   },
   "source": [
    "#### Function used to get 20 frames from a video file and convert the frame to a suitable format for the neural net."
   ]
  },
  {
   "cell_type": "code",
   "execution_count": 34,
   "metadata": {
    "colab": {},
    "colab_type": "code",
    "id": "eu9c4a-3RVkO"
   },
   "outputs": [],
   "source": [
    "def get_frames(current_dir, file_name):\n",
    "    \n",
    "    in_file = os.path.join(current_dir, file_name)\n",
    "    \n",
    "    images = []\n",
    "    \n",
    "    vidcap = cv2.VideoCapture(file_name)\n",
    "    success,image = vidcap.read()\n",
    "        \n",
    "    count = 0\n",
    "\n",
    "    while count<_images_per_file:\n",
    "                \n",
    "        RGB_img = cv2.cvtColor(image, cv2.COLOR_BGR2RGB)\n",
    "    \n",
    "        res = cv2.resize(RGB_img, dsize=(img_size, img_size),\n",
    "                                 interpolation=cv2.INTER_CUBIC)\n",
    "    \n",
    "        images.append(res)\n",
    "    \n",
    "        success,image = vidcap.read()\n",
    "    \n",
    "        count += 1\n",
    "        \n",
    "    resul = np.array(images)\n",
    "    \n",
    "    resul = (resul / 255.).astype(np.float16)\n",
    "        \n",
    "    return resul"
   ]
  },
  {
   "cell_type": "markdown",
   "metadata": {
    "colab_type": "text",
    "id": "tLCjYFBtRZb-"
   },
   "source": [
    "#### Function used to label the dataset to Violence and NonViolence"
   ]
  },
  {
   "cell_type": "code",
   "execution_count": 35,
   "metadata": {
    "colab": {},
    "colab_type": "code",
    "id": "Qiv5NIJjRbIA"
   },
   "outputs": [],
   "source": [
    "def label_video_names(data_dir):\n",
    "    \n",
    "    # list containing video names\n",
    "    names = []\n",
    "    # list containin video labels [1, 0] if it has violence and [0, 1] if not\n",
    "    labels = []\n",
    "    \n",
    "    dir_name_labales = {\n",
    "        \"data\\\\Real Life Violence Dataset\\\\Violence\":[1,0],\n",
    "        \"data\\\\Real Life Violence Dataset\\\\NonViolence\":[0,1]\n",
    "    }\n",
    "    \n",
    "    for current_dir, dir_names,file_names in os.walk(data_dir):\n",
    "        \n",
    "        for file_name in file_names:\n",
    "            \n",
    "                labels.append(dir_name_labales[current_dir])\n",
    "                names.append(os.path.join(current_dir, file_name))\n",
    "           \n",
    "            \n",
    "    c = list(zip(names,labels))\n",
    "    # Suffle the data (names and labels)\n",
    "    shuffle(c)\n",
    "    \n",
    "    names, labels = zip(*c)\n",
    "            \n",
    "    return names, labels"
   ]
  },
  {
   "cell_type": "markdown",
   "metadata": {
    "colab_type": "text",
    "id": "t3KW2kfgReKn"
   },
   "source": [
    "## Plot a video frame to see if data is correct\n",
    "\n",
    "#### get the names and labels of the whole videos"
   ]
  },
  {
   "cell_type": "code",
   "execution_count": 36,
   "metadata": {
    "colab": {},
    "colab_type": "code",
    "id": "dIsaAgcyRfIx"
   },
   "outputs": [],
   "source": [
    "names, labels = label_video_names(data_dir)"
   ]
  },
  {
   "cell_type": "markdown",
   "metadata": {
    "colab_type": "text",
    "id": "EqucOMsJRgqm"
   },
   "source": [
    "#### print the path and the name for the chosen video."
   ]
  },
  {
   "cell_type": "code",
   "execution_count": 37,
   "metadata": {
    "colab": {
     "base_uri": "https://localhost:8080/",
     "height": 34
    },
    "colab_type": "code",
    "id": "xUfZO-0BRj0f",
    "outputId": "e2b913dc-c39f-4d5f-a0d6-da1273692fbc"
   },
   "outputs": [
    {
     "data": {
      "text/plain": [
       "'data\\\\Real Life Violence Dataset\\\\NonViolence\\\\NV_3.mp4'"
      ]
     },
     "execution_count": 37,
     "metadata": {},
     "output_type": "execute_result"
    }
   ],
   "source": [
    "names[12]"
   ]
  },
  {
   "cell_type": "markdown",
   "metadata": {
    "colab_type": "text",
    "id": "ORGJ2pS9RnWw"
   },
   "source": [
    "#### load 20 frames of one video for example."
   ]
  },
  {
   "cell_type": "code",
   "execution_count": 38,
   "metadata": {
    "colab": {},
    "colab_type": "code",
    "id": "EqBi8z6rRoMW"
   },
   "outputs": [],
   "source": [
    "frames = get_frames(in_dir, names[12])"
   ]
  },
  {
   "cell_type": "markdown",
   "metadata": {
    "colab_type": "text",
    "id": "vtgQEmI6RrmM"
   },
   "source": [
    "#### to plot the frames we convert the frames back into uint8 pixel format."
   ]
  },
  {
   "cell_type": "code",
   "execution_count": 39,
   "metadata": {
    "colab": {},
    "colab_type": "code",
    "id": "9ihSA_ogRsNU"
   },
   "outputs": [],
   "source": [
    "visible_frame = (frames*255).astype('uint8')"
   ]
  },
  {
   "cell_type": "markdown",
   "metadata": {
    "colab": {
     "base_uri": "https://localhost:8080/",
     "height": 286
    },
    "colab_type": "code",
    "id": "PM1kNhaHRvSv",
    "outputId": "e2a6d324-cb62-42d2-dd8f-1cf1c464d168"
   },
   "source": [
    "#### plot frames"
   ]
  },
  {
   "cell_type": "code",
   "execution_count": 40,
   "metadata": {
    "colab": {
     "base_uri": "https://localhost:8080/",
     "height": 286
    },
    "colab_type": "code",
    "id": "PM1kNhaHRvSv",
    "outputId": "e2a6d324-cb62-42d2-dd8f-1cf1c464d168"
   },
   "outputs": [
    {
     "data": {
      "text/plain": [
       "<matplotlib.image.AxesImage at 0x22047e551c0>"
      ]
     },
     "execution_count": 40,
     "metadata": {},
     "output_type": "execute_result"
    },
    {
     "data": {
      "image/png": "[encoded data removed]",
      "text/plain": [
       "<Figure size 432x288 with 1 Axes>"
      ]
     },
     "metadata": {
      "needs_background": "light"
     },
     "output_type": "display_data"
    }
   ],
   "source": [
    "plt.imshow(visible_frame[3])"
   ]
  },
  {
   "cell_type": "code",
   "execution_count": 41,
   "metadata": {
    "colab": {
     "base_uri": "https://localhost:8080/",
     "height": 286
    },
    "colab_type": "code",
    "id": "_gVWtYPvR8n2",
    "outputId": "f9858ffa-3981-4b85-9c4d-62057bb8972c"
   },
   "outputs": [
    {
     "data": {
      "text/plain": [
       "<matplotlib.image.AxesImage at 0x220481833d0>"
      ]
     },
     "execution_count": 41,
     "metadata": {},
     "output_type": "execute_result"
    },
    {
     "data": {
      "image/png": "[encoded data removed]",
      "text/plain": [
       "<Figure size 432x288 with 1 Axes>"
      ]
     },
     "metadata": {
      "needs_background": "light"
     },
     "output_type": "display_data"
    }
   ],
   "source": [
    "plt.imshow(visible_frame[15])"
   ]
  },
  {
   "cell_type": "markdown",
   "metadata": {
    "colab_type": "text",
    "id": "sF1QieG5SANp"
   },
   "source": [
    "## Pre-Trained Model: VGG16"
   ]
  },
  {
   "cell_type": "markdown",
   "metadata": {
    "colab_type": "text",
    "id": "0o6FA6slSA1l"
   },
   "source": [
    "The following creates an instance of the pre-trained VGG16 model using the Keras API. This automatically downloads the required files, if you don't have them already.\n",
    "\n",
    "The VGG16 model contains a CNN part and a fully-connected (or dense) part, which is used for classification. If include_top=True then the whole VGG16 model is downloaded, which is about 528 MB. If include_top=False then only the convolutional part of the VGG16 model is downloaded, which is 57 MB."
   ]
  },
  {
   "cell_type": "code",
   "execution_count": 42,
   "metadata": {
    "colab": {
     "base_uri": "https://localhost:8080/",
     "height": 88
    },
    "colab_type": "code",
    "id": "MjRN6oE4SC81",
    "outputId": "1a9fbd16-9741-406d-b4fd-e3a20cd34a0d"
   },
   "outputs": [],
   "source": [
    "image_model = VGG16(include_top=True, weights='imagenet')"
   ]
  },
  {
   "cell_type": "markdown",
   "metadata": {
    "colab_type": "text",
    "id": "P_7z-y1mSPov"
   },
   "source": [
    "#### Let's see the model summary"
   ]
  },
  {
   "cell_type": "code",
   "execution_count": 43,
   "metadata": {
    "colab": {
     "base_uri": "https://localhost:8080/",
     "height": 918
    },
    "colab_type": "code",
    "id": "ud7OU0t7SQPi",
    "outputId": "20718d3a-c1d3-4a06-d6f5-de3c465311df"
   },
   "outputs": [
    {
     "name": "stdout",
     "output_type": "stream",
     "text": [
      "Model: \"vgg16\"\n",
      "_________________________________________________________________\n",
      "Layer (type)                 Output Shape              Param #   \n",
      "=================================================================\n",
      "input_1 (InputLayer)         [(None, 224, 224, 3)]     0         \n",
      "_________________________________________________________________\n",
      "block1_conv1 (Conv2D)        (None, 224, 224, 64)      1792      \n",
      "_________________________________________________________________\n",
      "block1_conv2 (Conv2D)        (None, 224, 224, 64)      36928     \n",
      "_________________________________________________________________\n",
      "block1_pool (MaxPooling2D)   (None, 112, 112, 64)      0         \n",
      "_________________________________________________________________\n",
      "block2_conv1 (Conv2D)        (None, 112, 112, 128)     73856     \n",
      "_________________________________________________________________\n",
      "block2_conv2 (Conv2D)        (None, 112, 112, 128)     147584    \n",
      "_________________________________________________________________\n",
      "block2_pool (MaxPooling2D)   (None, 56, 56, 128)       0         \n",
      "_________________________________________________________________\n",
      "block3_conv1 (Conv2D)        (None, 56, 56, 256)       295168    \n",
      "_________________________________________________________________\n",
      "block3_conv2 (Conv2D)        (None, 56, 56, 256)       590080    \n",
      "_________________________________________________________________\n",
      "block3_conv3 (Conv2D)        (None, 56, 56, 256)       590080    \n",
      "_________________________________________________________________\n",
      "block3_pool (MaxPooling2D)   (None, 28, 28, 256)       0         \n",
      "_________________________________________________________________\n",
      "block4_conv1 (Conv2D)        (None, 28, 28, 512)       1180160   \n",
      "_________________________________________________________________\n",
      "block4_conv2 (Conv2D)        (None, 28, 28, 512)       2359808   \n",
      "_________________________________________________________________\n",
      "block4_conv3 (Conv2D)        (None, 28, 28, 512)       2359808   \n",
      "_________________________________________________________________\n",
      "block4_pool (MaxPooling2D)   (None, 14, 14, 512)       0         \n",
      "_________________________________________________________________\n",
      "block5_conv1 (Conv2D)        (None, 14, 14, 512)       2359808   \n",
      "_________________________________________________________________\n",
      "block5_conv2 (Conv2D)        (None, 14, 14, 512)       2359808   \n",
      "_________________________________________________________________\n",
      "block5_conv3 (Conv2D)        (None, 14, 14, 512)       2359808   \n",
      "_________________________________________________________________\n",
      "block5_pool (MaxPooling2D)   (None, 7, 7, 512)         0         \n",
      "_________________________________________________________________\n",
      "flatten (Flatten)            (None, 25088)             0         \n",
      "_________________________________________________________________\n",
      "fc1 (Dense)                  (None, 4096)              102764544 \n",
      "_________________________________________________________________\n",
      "fc2 (Dense)                  (None, 4096)              16781312  \n",
      "_________________________________________________________________\n",
      "predictions (Dense)          (None, 1000)              4097000   \n",
      "=================================================================\n",
      "Total params: 138,357,544\n",
      "Trainable params: 138,357,544\n",
      "Non-trainable params: 0\n",
      "_________________________________________________________________\n"
     ]
    }
   ],
   "source": [
    "image_model.summary()"
   ]
  },
  {
   "cell_type": "markdown",
   "metadata": {
    "colab_type": "text",
    "id": "-NxnGLlDSTwr"
   },
   "source": [
    "We can observe the shape of the tensors expected as input by the pre-trained VGG16 model. In this case it is images of shape 224 x 224 x 3. Note that we have defined the frame size as 224x224x3. The video frame will be the input of the VGG16 net."
   ]
  },
  {
   "cell_type": "code",
   "execution_count": 75,
   "metadata": {
    "colab": {
     "base_uri": "https://localhost:8080/",
     "height": 34
    },
    "colab_type": "code",
    "id": "9a0k89M5SUjP",
    "outputId": "50971481-7dff-49de-b4ad-a3e69c2853ac"
   },
   "outputs": [
    {
     "data": {
      "text/plain": [
       "[]"
      ]
     },
     "execution_count": 75,
     "metadata": {},
     "output_type": "execute_result"
    }
   ],
   "source": [
    "input_shape = image_model.layers[0].output_shape[1:3]\n",
    "input_shape"
   ]
  },
  {
   "cell_type": "markdown",
   "metadata": {
    "colab_type": "text",
    "id": "kMR6iqg4SaOl"
   },
   "source": [
    "### VGG16 model flowchart"
   ]
  },
  {
   "cell_type": "markdown",
   "metadata": {
    "colab_type": "text",
    "id": "qFUDqTiBSa0H"
   },
   "source": [
    "The following chart shows how the data flows when using the VGG16 model for Transfer Learning. First we input and process 20 video frames in batch with the VGG16 model. Just prior to the final classification layer of the VGG16 model, we save the so-called Transfer Values to a cache-file.\n",
    "\n",
    "The reason for using a cache-file is that it takes a long time to process an image with the VGG16 model. If each image is processed more than once then we can save a lot of time by caching the transfer-values.\n",
    "\n",
    "When all the videos have been processed through the VGG16 model and the resulting transfer-values are saved in to a cache file, then we can use those transfer-values as the input to LSTM neural network. We will then train the second neural network by using the classes from the violence dataset (Violence, No-Violence), so that the network can learn how to classify images based on the transfer-values from the VGG16 model."
   ]
  },
  {
   "cell_type": "code",
   "execution_count": 76,
   "metadata": {
    "colab": {
     "base_uri": "https://localhost:8080/",
     "height": 51
    },
    "colab_type": "code",
    "id": "4YWFA-2tSdfB",
    "outputId": "55dcb0c7-2b8a-4420-e25e-381152197a81"
   },
   "outputs": [
    {
     "name": "stdout",
     "output_type": "stream",
     "text": [
      "The input of the VGG16 net have dimensions: (224, 224)\n",
      "The output of the selecter layer of VGG16 net have dimensions:  4096\n"
     ]
    }
   ],
   "source": [
    "# We will use the output of the layer prior to the final\n",
    "# classification-layer which is named fc2. This is a fully-connected (or dense) layer.\n",
    "transfer_layer = image_model.get_layer('fc2')\n",
    "\n",
    "image_model_transfer = Model(inputs=image_model.input,\n",
    "                             outputs=transfer_layer.output)\n",
    "\n",
    "transfer_values_size = K.int_shape(transfer_layer.output)[1]\n",
    "\n",
    "\n",
    "print(\"The input of the VGG16 net have dimensions:\",K.int_shape(image_model.input)[1:3])\n",
    "\n",
    "print(\"The output of the selecter layer of VGG16 net have dimensions: \", transfer_values_size)"
   ]
  },
  {
   "cell_type": "markdown",
   "metadata": {
    "colab_type": "text",
    "id": "1ghum6s2Si1n"
   },
   "source": [
    "#### Function to process 20 video frames through VGG16 and get transfer values"
   ]
  },
  {
   "cell_type": "code",
   "execution_count": 77,
   "metadata": {
    "colab": {},
    "colab_type": "code",
    "id": "-AdxYAtiSlLF"
   },
   "outputs": [],
   "source": [
    "def get_transfer_values(current_dir, file_name):\n",
    "    \n",
    "    # Pre-allocate input-batch-array for images.\n",
    "    shape = (_images_per_file,) + img_size_touple + (3,)\n",
    "    \n",
    "    image_batch = np.zeros(shape=shape, dtype=np.float16)\n",
    "    \n",
    "    image_batch = get_frames(current_dir, file_name)\n",
    "      \n",
    "    # Pre-allocate output-array for transfer-values.\n",
    "    # Note that we use 16-bit floating-points to save memory.\n",
    "    shape = (_images_per_file, transfer_values_size)\n",
    "    transfer_values = np.zeros(shape=shape, dtype=np.float16)\n",
    "\n",
    "    transfer_values = \\\n",
    "            image_model_transfer.predict(image_batch)\n",
    "            \n",
    "    return transfer_values"
   ]
  },
  {
   "cell_type": "markdown",
   "metadata": {
    "colab_type": "text",
    "id": "HGdRIG6oSooG"
   },
   "source": [
    "#### Generator that process one video through VGG16 each function call"
   ]
  },
  {
   "cell_type": "code",
   "execution_count": 78,
   "metadata": {
    "colab": {},
    "colab_type": "code",
    "id": "D2BvaY3eSpSH"
   },
   "outputs": [],
   "source": [
    "def proces_transfer(vid_names, in_dir, labels):\n",
    "    \n",
    "    count = 0\n",
    "    \n",
    "    tam = len(vid_names)\n",
    "    \n",
    "    # Pre-allocate input-batch-array for images.\n",
    "    shape = (_images_per_file,) + img_size_touple + (3,)\n",
    "    \n",
    "    while count<tam:\n",
    "        \n",
    "        video_name = vid_names[count]\n",
    "        \n",
    "        image_batch = np.zeros(shape=shape, dtype=np.float16)\n",
    "    \n",
    "        image_batch = get_frames(in_dir, video_name)\n",
    "        \n",
    "         # Note that we use 16-bit floating-points to save memory.\n",
    "        shape = (_images_per_file, transfer_values_size)\n",
    "        transfer_values = np.zeros(shape=shape, dtype=np.float16)\n",
    "        \n",
    "        transfer_values = \\\n",
    "            image_model_transfer.predict(image_batch)\n",
    "         \n",
    "        labels1 = labels[count]\n",
    "        \n",
    "        aux = np.ones([20,2])\n",
    "        \n",
    "        labelss = labels1*aux\n",
    "        \n",
    "        yield transfer_values, labelss\n",
    "        \n",
    "        count+=1"
   ]
  },
  {
   "cell_type": "markdown",
   "metadata": {
    "colab_type": "text",
    "id": "I-Cnv0fRSswF"
   },
   "source": [
    "#### Functions to save transfer values from VGG16 used for training\n"
   ]
  },
  {
   "cell_type": "code",
   "execution_count": 79,
   "metadata": {
    "colab": {},
    "colab_type": "code",
    "id": "tvU53ypSSvL0"
   },
   "outputs": [],
   "source": [
    "def make_files(n_files):\n",
    "    \n",
    "    gen = proces_transfer(names_training, in_dir, labels_training)\n",
    "\n",
    "    numer = 1\n",
    "\n",
    "    # Read the first chunk to get the column dtypes\n",
    "    chunk = next(gen)\n",
    "\n",
    "    row_count = chunk[0].shape[0]\n",
    "    row_count2 = chunk[1].shape[0]\n",
    "    \n",
    "    with h5py.File('training.h5', 'w') as f:\n",
    "    \n",
    "        # Initialize a resizable dataset to hold the output\n",
    "        maxshape = (None,) + chunk[0].shape[1:]\n",
    "        maxshape2 = (None,) + chunk[1].shape[1:]\n",
    "    \n",
    "    \n",
    "        dset = f.create_dataset('data', shape=chunk[0].shape, maxshape=maxshape,\n",
    "                                chunks=chunk[0].shape, dtype=chunk[0].dtype)\n",
    "    \n",
    "        dset2 = f.create_dataset('labels', shape=chunk[1].shape, maxshape=maxshape2,\n",
    "                                 chunks=chunk[1].shape, dtype=chunk[1].dtype)\n",
    "    \n",
    "         # Write the first chunk of rows\n",
    "        dset[:] = chunk[0]\n",
    "        dset2[:] = chunk[1]\n",
    "\n",
    "        for chunk in gen:\n",
    "            \n",
    "            if numer == n_files:\n",
    "            \n",
    "                break\n",
    "\n",
    "            # Resize the dataset to accommodate the next chunk of rows\n",
    "            dset.resize(row_count + chunk[0].shape[0], axis=0)\n",
    "            dset2.resize(row_count2 + chunk[1].shape[0], axis=0)\n",
    "\n",
    "            # Write the next chunk\n",
    "            dset[row_count:] = chunk[0]\n",
    "            dset2[row_count:] = chunk[1]\n",
    "\n",
    "            # Increment the row count\n",
    "            row_count += chunk[0].shape[0]\n",
    "            row_count2 += chunk[1].shape[0]\n",
    "            \n",
    "            print_progress(numer, n_files)\n",
    "        \n",
    "            numer += 1\n",
    "            "
   ]
  },
  {
   "cell_type": "markdown",
   "metadata": {
    "colab": {},
    "colab_type": "code",
    "id": "tvU53ypSSvL0"
   },
   "source": [
    "#### Functions to save transfer values from VGG16 used for testing\n"
   ]
  },
  {
   "cell_type": "code",
   "execution_count": 109,
   "metadata": {
    "colab": {},
    "colab_type": "code",
    "id": "8nK8uFExS0nX"
   },
   "outputs": [],
   "source": [
    "def make_files_test(n_files):\n",
    "    \n",
    "    gen = proces_transfer(names_test, in_dir, labels_test)\n",
    "\n",
    "    numer = 1\n",
    "\n",
    "    # Read the first chunk to get the column dtypes\n",
    "    chunk = next(gen)\n",
    "\n",
    "    row_count = chunk[0].shape[0]\n",
    "    row_count2 = chunk[1].shape[0]\n",
    "    \n",
    "    with h5py.File('validation.h5', 'w') as f:\n",
    "    \n",
    "        # Initialize a resizable dataset to hold the output\n",
    "        maxshape = (None,) + chunk[0].shape[1:]\n",
    "        maxshape2 = (None,) + chunk[1].shape[1:]\n",
    "    \n",
    "    \n",
    "        dset = f.create_dataset('data', shape=chunk[0].shape, maxshape=maxshape,\n",
    "                                chunks=chunk[0].shape, dtype=chunk[0].dtype)\n",
    "    \n",
    "        dset2 = f.create_dataset('labels', shape=chunk[1].shape, maxshape=maxshape2,\n",
    "                                 chunks=chunk[1].shape, dtype=chunk[1].dtype)\n",
    "    \n",
    "         # Write the first chunk of rows\n",
    "        dset[:] = chunk[0]\n",
    "        dset2[:] = chunk[1]\n",
    "\n",
    "        for chunk in gen:\n",
    "            \n",
    "            if numer == n_files:\n",
    "            \n",
    "                break\n",
    "\n",
    "            # Resize the dataset to accommodate the next chunk of rows\n",
    "            dset.resize(row_count + chunk[0].shape[0], axis=0)\n",
    "            dset2.resize(row_count2 + chunk[1].shape[0], axis=0)\n",
    "\n",
    "            # Write the next chunk\n",
    "            dset[row_count:] = chunk[0]\n",
    "            dset2[row_count:] = chunk[1]\n",
    "\n",
    "            # Increment the row count\n",
    "            row_count += chunk[0].shape[0]\n",
    "            row_count2 += chunk[1].shape[0]\n",
    "            \n",
    "            print_progress(numer, n_files)\n",
    "        \n",
    "            numer += 1\n",
    "            "
   ]
  },
  {
   "cell_type": "markdown",
   "metadata": {
    "colab_type": "text",
    "id": "R9axnZ8dS64T"
   },
   "source": [
    "### Split the dataset into training set and test set\n",
    "We are going to split the dataset into training set and testing. The training set is used to train the model and the test is used to check the model accuracy."
   ]
  },
  {
   "cell_type": "code",
   "execution_count": 81,
   "metadata": {
    "colab": {},
    "colab_type": "code",
    "id": "wjne3svdS9Y3"
   },
   "outputs": [],
   "source": [
    "training_set = int(len(names)*0.8)\n",
    "test_set = int(len(names)*0.2)\n",
    "\n",
    "names_training = names[0:training_set]\n",
    "names_test = names[training_set:]\n",
    "\n",
    "labels_training = labels[0:training_set]\n",
    "labels_test = labels[training_set:]"
   ]
  },
  {
   "cell_type": "markdown",
   "metadata": {
    "colab_type": "text",
    "id": "xmiJi6G7TBnI"
   },
   "source": [
    "\n",
    "## make the training set\n",
    "\n",
    " Then we will process all the video frames for training through VGG16 and save the transfer-values."
   ]
  },
  {
   "cell_type": "code",
   "execution_count": 143,
   "metadata": {
    "colab": {
     "base_uri": "https://localhost:8080/",
     "height": 34
    },
    "colab_type": "code",
    "id": "pyO9WP-6TER4",
    "outputId": "94209006-bfb9-470f-d418-cd2acfbdb12d"
   },
   "outputs": [],
   "source": [
    "make_files(training_set)"
   ]
  },
  {
   "cell_type": "markdown",
   "metadata": {
    "colab": {
     "base_uri": "https://localhost:8080/",
     "height": 34
    },
    "colab_type": "code",
    "id": "0ThoefXUXPrS",
    "outputId": "9f4cdc1e-4bfb-4ab6-81c1-05abadc1239f"
   },
   "source": [
    "## make the testing set\n",
    "\n",
    " Then we will process 20% the video frames for testing through VGG16 and save the transfer-values."
   ]
  },
  {
   "cell_type": "code",
   "execution_count": 144,
   "metadata": {
    "colab": {
     "base_uri": "https://localhost:8080/",
     "height": 34
    },
    "colab_type": "code",
    "id": "0ThoefXUXPrS",
    "outputId": "9f4cdc1e-4bfb-4ab6-81c1-05abadc1239f"
   },
   "outputs": [
    {
     "name": "stdout",
     "output_type": "stream",
     "text": [
      "- Progress: 99.8%"
     ]
    }
   ],
   "source": [
    "make_files_test(test_set)"
   ]
  },
  {
   "cell_type": "markdown",
   "metadata": {
    "colab_type": "text",
    "id": "0s2imcRixMAr"
   },
   "source": [
    "### Load the cached transfer values into memory\n",
    "We saved all the video frames transfer-values into a disk, but we have to load those transfer-values into memory in order to train the LSTM net. if you didn't save the transfer-values into disk you would have to process the whole videos each training. It's a time consuming way to processe the videos through VGG16 net. \n"
   ]
  },
  {
   "cell_type": "markdown",
   "metadata": {
    "colab_type": "text",
    "id": "RnK1JL-izzeS"
   },
   "source": [
    "### functions to load the saved transfer-values into RAM memory."
   ]
  },
  {
   "cell_type": "code",
   "execution_count": 111,
   "metadata": {
    "colab": {},
    "colab_type": "code",
    "id": "Ez0blP2z0CsF"
   },
   "outputs": [],
   "source": [
    "def process_alldata_training():\n",
    "    \n",
    "    joint_transfer=[]\n",
    "    frames_num=20\n",
    "    count = 0\n",
    "    \n",
    "    with h5py.File('training.h5', 'r') as f:\n",
    "            \n",
    "        X_batch = f['data'][:]\n",
    "        y_batch = f['labels'][:]\n",
    "\n",
    "    for i in range(int(len(X_batch)/frames_num)):\n",
    "        inc = count+frames_num\n",
    "        joint_transfer.append([X_batch[count:inc],y_batch[count]])\n",
    "        count =inc\n",
    "        \n",
    "    data =[]\n",
    "    target=[]\n",
    "    \n",
    "    for i in joint_transfer:\n",
    "        data.append(i[0])\n",
    "        target.append(np.array(i[1]))\n",
    "        \n",
    "    return data, target"
   ]
  },
  {
   "cell_type": "code",
   "execution_count": 112,
   "metadata": {
    "colab": {},
    "colab_type": "code",
    "id": "Dne2XaQ90MGk"
   },
   "outputs": [],
   "source": [
    "def process_alldata_test():\n",
    "    \n",
    "    joint_transfer=[]\n",
    "    frames_num=20\n",
    "    count = 0\n",
    "    \n",
    "    with h5py.File('validation.h5', 'r') as f:\n",
    "            \n",
    "        X_batch = f['data'][:]\n",
    "        y_batch = f['labels'][:]\n",
    "\n",
    "    for i in range(int(len(X_batch)/frames_num)):\n",
    "        inc = count+frames_num\n",
    "        joint_transfer.append([X_batch[count:inc],y_batch[count]])\n",
    "        count =inc\n",
    "        \n",
    "    data =[]\n",
    "    target=[]\n",
    "    \n",
    "    for i in joint_transfer:\n",
    "        data.append(i[0])\n",
    "        target.append(np.array(i[1]))\n",
    "        \n",
    "    return data, target"
   ]
  },
  {
   "cell_type": "markdown",
   "metadata": {
    "colab": {},
    "colab_type": "code",
    "id": "Dne2XaQ90MGk"
   },
   "source": [
    "#### load the saved transfer-values"
   ]
  },
  {
   "cell_type": "code",
   "execution_count": 84,
   "metadata": {
    "colab": {},
    "colab_type": "code",
    "id": "phyhoYc67VW8"
   },
   "outputs": [],
   "source": [
    "data, target = process_alldata_training()"
   ]
  },
  {
   "cell_type": "code",
   "execution_count": 85,
   "metadata": {
    "colab": {},
    "colab_type": "code",
    "id": "dJpXHvEg7Xhc"
   },
   "outputs": [],
   "source": [
    "data_test, target_test = process_alldata_test()"
   ]
  },
  {
   "cell_type": "markdown",
   "metadata": {
    "colab_type": "text",
    "id": "Qjaawyqj0arq"
   },
   "source": [
    "## Recurrent Neural Network"
   ]
  },
  {
   "cell_type": "markdown",
   "metadata": {
    "colab_type": "text",
    "id": "dXFhxfzE0hGb"
   },
   "source": [
    "The basic building block in a Recurrent Neural Network (RNN) is a Recurrent Unit (RU). There are many different variants of recurrent units such as the rather clunky LSTM (Long-Short-Term-Memory) and the somewhat simpler GRU (Gated Recurrent Unit) which we will use in this tutorial. Experiments in the literature suggest that the LSTM and GRU have roughly similar performance. Even simpler variants also exist and the literature suggests that they may perform even better than both LSTM and GRU, but they are not implemented in Keras which we will use in this tutorial.\n",
    "\n",
    "A recurrent neuron has an internal state that is being updated every time the unit receives a new input. This internal state serves as a kind of memory. However, it is not a traditional kind of computer memory which stores bits that are either on or off. Instead the recurrent unit stores floating-point values in its memory-state, which are read and written using matrix-operations so the operations are all differentiable. This means the memory-state can store arbitrary floating-point values (although typically limited between -1.0 and 1.0) and the network can be trained like a normal neural network using Gradient Descent.\n",
    "\n"
   ]
  },
  {
   "cell_type": "markdown",
   "metadata": {
    "colab_type": "text",
    "id": "BsIrL3ix4Edp"
   },
   "source": [
    "### Define LSTM architecture"
   ]
  },
  {
   "cell_type": "markdown",
   "metadata": {
    "colab_type": "text",
    "id": "qFiSjMaC4Q1c"
   },
   "source": [
    "When defining the LSTM architecture we have to take into account the dimensions of the transfer values. From each frame the VGG16 network obtains as output a vector of 4096 transfer values. From each video we are processing 20 frames so we will have 20 x 4096 values per video. The classification must be done taking into account the 20 frames of the video. If any of them detects violence, the video will be classified as violent.\n"
   ]
  },
  {
   "cell_type": "markdown",
   "metadata": {
    "colab_type": "text",
    "id": "HAgSUeVu58N_"
   },
   "source": [
    "The first input dimension of LSTM neurons is the temporal dimension, in our case it is 20. The second is the size of the features vector (transfer values).\n"
   ]
  },
  {
   "cell_type": "code",
   "execution_count": 86,
   "metadata": {
    "colab": {},
    "colab_type": "code",
    "id": "XWABZ91b6f7l"
   },
   "outputs": [],
   "source": [
    "chunk_size = 4096\n",
    "n_chunks = 20\n",
    "rnn_size = 512\n",
    "\n",
    "model = Sequential()\n",
    "model.add(LSTM(rnn_size, input_shape=(n_chunks, chunk_size)))\n",
    "model.add(Dense(1024))\n",
    "model.add(Activation('relu'))\n",
    "model.add(Dense(50))\n",
    "model.add(Activation('sigmoid'))\n",
    "model.add(Dense(2))\n",
    "model.add(Activation('softmax'))\n",
    "model.compile(loss='mean_squared_error', optimizer='adam',metrics=['accuracy'])"
   ]
  },
  {
   "cell_type": "markdown",
   "metadata": {
    "colab_type": "text",
    "id": "bVonOPYW7F_b"
   },
   "source": [
    "## Model training\n"
   ]
  },
  {
   "cell_type": "code",
   "execution_count": 87,
   "metadata": {
    "colab": {
     "base_uri": "https://localhost:8080/",
     "height": 6834
    },
    "colab_type": "code",
    "id": "iRZlW4ZV_ygS",
    "outputId": "c223a55f-8ccd-4e5a-f5d4-dc6a1daf2d0e"
   },
   "outputs": [],
   "source": [
    "def train_the_model(ep):\n",
    "    epoch = ep\n",
    "    batchS = 500\n",
    "\n",
    "    history = model.fit(np.array(data[0:750]), np.array(target[0:750]), epochs=epoch,\n",
    "                    validation_data=(np.array(data[750:]), np.array(target[750:])), \n",
    "                    batch_size=batchS, verbose=2)\n",
    "    "
   ]
  },
  {
   "cell_type": "code",
   "execution_count": 88,
   "metadata": {
    "colab": {
     "base_uri": "https://localhost:8080/",
     "height": 6834
    },
    "colab_type": "code",
    "id": "iRZlW4ZV_ygS",
    "outputId": "c223a55f-8ccd-4e5a-f5d4-dc6a1daf2d0e"
   },
   "outputs": [],
   "source": [
    "def retrain_the_model(ep,modlename):\n",
    "    epoch = ep\n",
    "    batchS = 500\n",
    "\n",
    "    history = modlename.fit(np.array(data[0:750]), np.array(target[0:750]), epochs=epoch,\n",
    "                    validation_data=(np.array(data[750:]), np.array(target[750:])), \n",
    "                    batch_size=batchS, verbose=2)\n",
    "    "
   ]
  },
  {
   "cell_type": "code",
   "execution_count": 89,
   "metadata": {
    "colab": {
     "base_uri": "https://localhost:8080/",
     "height": 6834
    },
    "colab_type": "code",
    "id": "iRZlW4ZV_ygS",
    "outputId": "c223a55f-8ccd-4e5a-f5d4-dc6a1daf2d0e"
   },
   "outputs": [
    {
     "name": "stdout",
     "output_type": "stream",
     "text": [
      "Epoch 1/20\n",
      "2/2 - 5s - loss: 0.3207 - accuracy: 0.4933 - val_loss: 0.3039 - val_accuracy: 0.4976\n",
      "Epoch 2/20\n",
      "2/2 - 5s - loss: 0.2929 - accuracy: 0.4800 - val_loss: 0.2628 - val_accuracy: 0.5024\n",
      "Epoch 3/20\n",
      "2/2 - 4s - loss: 0.2598 - accuracy: 0.5040 - val_loss: 0.2490 - val_accuracy: 0.5035\n",
      "Epoch 4/20\n",
      "2/2 - 4s - loss: 0.2520 - accuracy: 0.4840 - val_loss: 0.2516 - val_accuracy: 0.4976\n",
      "Epoch 5/20\n",
      "2/2 - 4s - loss: 0.2506 - accuracy: 0.4960 - val_loss: 0.2495 - val_accuracy: 0.5024\n",
      "Epoch 6/20\n",
      "2/2 - 4s - loss: 0.2508 - accuracy: 0.5040 - val_loss: 0.2512 - val_accuracy: 0.5024\n",
      "Epoch 7/20\n",
      "2/2 - 5s - loss: 0.2506 - accuracy: 0.5040 - val_loss: 0.2482 - val_accuracy: 0.6918\n",
      "Epoch 8/20\n",
      "2/2 - 5s - loss: 0.2482 - accuracy: 0.6200 - val_loss: 0.2485 - val_accuracy: 0.4976\n",
      "Epoch 9/20\n",
      "2/2 - 5s - loss: 0.2490 - accuracy: 0.4960 - val_loss: 0.2458 - val_accuracy: 0.6494\n",
      "Epoch 10/20\n",
      "2/2 - 4s - loss: 0.2459 - accuracy: 0.6107 - val_loss: 0.2464 - val_accuracy: 0.5024\n",
      "Epoch 11/20\n",
      "2/2 - 5s - loss: 0.2462 - accuracy: 0.5040 - val_loss: 0.2411 - val_accuracy: 0.6953\n",
      "Epoch 12/20\n",
      "2/2 - 5s - loss: 0.2420 - accuracy: 0.6587 - val_loss: 0.2394 - val_accuracy: 0.6000\n",
      "Epoch 13/20\n",
      "2/2 - 5s - loss: 0.2399 - accuracy: 0.6253 - val_loss: 0.2333 - val_accuracy: 0.6847\n",
      "Epoch 14/20\n",
      "2/2 - 5s - loss: 0.2362 - accuracy: 0.6347 - val_loss: 0.2258 - val_accuracy: 0.7353\n",
      "Epoch 15/20\n",
      "2/2 - 5s - loss: 0.2285 - accuracy: 0.6653 - val_loss: 0.2191 - val_accuracy: 0.7071\n",
      "Epoch 16/20\n",
      "2/2 - 5s - loss: 0.2221 - accuracy: 0.6880 - val_loss: 0.2109 - val_accuracy: 0.7141\n",
      "Epoch 17/20\n",
      "2/2 - 5s - loss: 0.2129 - accuracy: 0.7040 - val_loss: 0.2044 - val_accuracy: 0.6871\n",
      "Epoch 18/20\n",
      "2/2 - 5s - loss: 0.2057 - accuracy: 0.6973 - val_loss: 0.1950 - val_accuracy: 0.7141\n",
      "Epoch 19/20\n",
      "2/2 - 5s - loss: 0.1992 - accuracy: 0.6947 - val_loss: 0.1819 - val_accuracy: 0.7282\n",
      "Epoch 20/20\n",
      "2/2 - 7s - loss: 0.1979 - accuracy: 0.7067 - val_loss: 0.1725 - val_accuracy: 0.7612\n"
     ]
    }
   ],
   "source": [
    "train_the_model(20)"
   ]
  },
  {
   "cell_type": "markdown",
   "metadata": {
    "colab_type": "text",
    "id": "BVJCgz3bA4A3"
   },
   "source": [
    "## Test the model"
   ]
  },
  {
   "cell_type": "markdown",
   "metadata": {
    "colab_type": "text",
    "id": "3MwCq0LpA59G"
   },
   "source": [
    "We test the model with 20% of the total videos, that were splited. this videos weren't used to train the model."
   ]
  },
  {
   "cell_type": "code",
   "execution_count": 90,
   "metadata": {
    "colab": {
     "base_uri": "https://localhost:8080/",
     "height": 34
    },
    "colab_type": "code",
    "id": "VDXFFy6zBG3X",
    "outputId": "6ac389f9-6400-401d-dfe7-c3e90ce8a0e4"
   },
   "outputs": [
    {
     "name": "stdout",
     "output_type": "stream",
     "text": [
      "13/13 [==============================] - 4s 314ms/step - loss: 0.1863 - accuracy: 0.7250\n"
     ]
    }
   ],
   "source": [
    "result = model.evaluate(np.array(data_test), np.array(target_test))"
   ]
  },
  {
   "cell_type": "code",
   "execution_count": 91,
   "metadata": {
    "colab": {
     "base_uri": "https://localhost:8080/",
     "height": 34
    },
    "colab_type": "code",
    "id": "VDXFFy6zBG3X",
    "outputId": "6ac389f9-6400-401d-dfe7-c3e90ce8a0e4"
   },
   "outputs": [],
   "source": [
    "model.save(\"result.h5\")"
   ]
  },
  {
   "cell_type": "markdown",
   "metadata": {
    "colab_type": "text",
    "id": "8YG-bPW4BL6U"
   },
   "source": [
    "## Print the model accuracy and loss"
   ]
  },
  {
   "cell_type": "code",
   "execution_count": 92,
   "metadata": {
    "colab": {
     "base_uri": "https://localhost:8080/",
     "height": 51
    },
    "colab_type": "code",
    "id": "wBV2t2Q6BOt9",
    "outputId": "1dadcb49-b517-4cdc-9624-cb76c529b457"
   },
   "outputs": [
    {
     "name": "stdout",
     "output_type": "stream",
     "text": [
      "loss 0.19\n",
      "accuracy 0.73\n"
     ]
    }
   ],
   "source": [
    "for name, value in zip(model.metrics_names, result):\n",
    "    print(name,round(value,2))"
   ]
  },
  {
   "cell_type": "code",
   "execution_count": 93,
   "metadata": {
    "colab": {
     "base_uri": "https://localhost:8080/",
     "height": 51
    },
    "colab_type": "code",
    "id": "wBV2t2Q6BOt9",
    "outputId": "1dadcb49-b517-4cdc-9624-cb76c529b457"
   },
   "outputs": [],
   "source": [
    "#### funcion for Print the model accuracy as grpah "
   ]
  },
  {
   "cell_type": "code",
   "execution_count": 94,
   "metadata": {
    "colab": {
     "base_uri": "https://localhost:8080/",
     "height": 51
    },
    "colab_type": "code",
    "id": "wBV2t2Q6BOt9",
    "outputId": "1dadcb49-b517-4cdc-9624-cb76c529b457"
   },
   "outputs": [],
   "source": [
    "def plot_results(history):  \n",
    "    loss = history.history['loss']\n",
    "    val_loss = history.history['val_loss']\n",
    "    acc = history.history['accuracy']\n",
    "    val_acc = history.history['val_accuracy']\n",
    "\n",
    "    epochs = range(len(loss))\n",
    "\n",
    "    plt.figure()\n",
    "    plt.plot(epochs, loss, 'b', label='Training loss')\n",
    "    plt.plot(epochs, val_loss, 'r', label='Validation loss')\n",
    "    plt.legend()\n",
    "    plt.show()\n",
    "    plt.plot(epochs, acc, 'b', label='Training accuracy')\n",
    "    plt.plot(epochs, val_acc, 'r', label='Validation accuracy')\n",
    "    plt.legend()\n",
    "    plt.show()"
   ]
  },
  {
   "cell_type": "markdown",
   "metadata": {
    "colab": {
     "base_uri": "https://localhost:8080/",
     "height": 51
    },
    "colab_type": "code",
    "id": "wBV2t2Q6BOt9",
    "outputId": "1dadcb49-b517-4cdc-9624-cb76c529b457"
   },
   "source": [
    "## Print the model accuracy and loss"
   ]
  },
  {
   "cell_type": "code",
   "execution_count": 1,
   "metadata": {
    "colab": {
     "base_uri": "https://localhost:8080/",
     "height": 51
    },
    "colab_type": "code",
    "id": "wBV2t2Q6BOt9",
    "outputId": "1dadcb49-b517-4cdc-9624-cb76c529b457"
   },
   "outputs": [
    {
     "ename": "NameError",
     "evalue": "name 'plot_results' is not defined",
     "output_type": "error",
     "traceback": [
      "\u001b[1;31m---------------------------------------------------------------------------\u001b[0m",
      "\u001b[1;31mNameError\u001b[0m                                 Traceback (most recent call last)",
      "\u001b[1;32m<ipython-input-1-6267048efae0>\u001b[0m in \u001b[0;36m<module>\u001b[1;34m\u001b[0m\n\u001b[1;32m----> 1\u001b[1;33m \u001b[0mplot_results\u001b[0m\u001b[1;33m(\u001b[0m\u001b[0mhistory\u001b[0m\u001b[1;33m)\u001b[0m\u001b[1;33m\u001b[0m\u001b[1;33m\u001b[0m\u001b[0m\n\u001b[0m",
      "\u001b[1;31mNameError\u001b[0m: name 'plot_results' is not defined"
     ]
    }
   ],
   "source": [
    "plot_results(history)    "
   ]
  },
  {
   "cell_type": "markdown",
   "metadata": {
    "colab": {
     "base_uri": "https://localhost:8080/",
     "height": 571
    },
    "colab_type": "code",
    "id": "zO6YSbxgBZ3f",
    "outputId": "f8a99f0c-2cf2-4228-f6ac-9083c39443fb"
   },
   "source": [
    "## Load the model"
   ]
  },
  {
   "cell_type": "code",
   "execution_count": 8,
   "metadata": {
    "colab": {
     "base_uri": "https://localhost:8080/",
     "height": 571
    },
    "colab_type": "code",
    "id": "zO6YSbxgBZ3f",
    "outputId": "f8a99f0c-2cf2-4228-f6ac-9083c39443fb"
   },
   "outputs": [
    {
     "ename": "NameError",
     "evalue": "name 'load_model' is not defined",
     "output_type": "error",
     "traceback": [
      "\u001b[1;31m---------------------------------------------------------------------------\u001b[0m",
      "\u001b[1;31mNameError\u001b[0m                                 Traceback (most recent call last)",
      "\u001b[1;32m<ipython-input-8-27a1a9cab859>\u001b[0m in \u001b[0;36m<module>\u001b[1;34m\u001b[0m\n\u001b[1;32m----> 1\u001b[1;33m \u001b[0mmodel\u001b[0m \u001b[1;33m=\u001b[0m \u001b[0mload_model\u001b[0m\u001b[1;33m(\u001b[0m\u001b[1;34m'result.h5'\u001b[0m\u001b[1;33m)\u001b[0m\u001b[1;33m\u001b[0m\u001b[1;33m\u001b[0m\u001b[0m\n\u001b[0m\u001b[0;32m      2\u001b[0m \u001b[0mresult\u001b[0m \u001b[1;33m=\u001b[0m \u001b[0mmodel\u001b[0m\u001b[1;33m.\u001b[0m\u001b[0mevaluate\u001b[0m\u001b[1;33m(\u001b[0m\u001b[0mnp\u001b[0m\u001b[1;33m.\u001b[0m\u001b[0marray\u001b[0m\u001b[1;33m(\u001b[0m\u001b[0mdata_test\u001b[0m\u001b[1;33m)\u001b[0m\u001b[1;33m,\u001b[0m \u001b[0mnp\u001b[0m\u001b[1;33m.\u001b[0m\u001b[0marray\u001b[0m\u001b[1;33m(\u001b[0m\u001b[0mtarget_test\u001b[0m\u001b[1;33m)\u001b[0m\u001b[1;33m)\u001b[0m\u001b[1;33m\u001b[0m\u001b[1;33m\u001b[0m\u001b[0m\n",
      "\u001b[1;31mNameError\u001b[0m: name 'load_model' is not defined"
     ]
    }
   ],
   "source": [
    "model = load_model('result.h5')\n",
    "result = model.evaluate(np.array(data_test), np.array(target_test))"
   ]
  },
  {
   "cell_type": "markdown",
   "metadata": {},
   "source": [
    "## retrain the model"
   ]
  },
  {
   "cell_type": "code",
   "execution_count": null,
   "metadata": {},
   "outputs": [],
   "source": [
    "train_the_model(20)"
   ]
  },
  {
   "cell_type": "code",
   "execution_count": null,
   "metadata": {},
   "outputs": [],
   "source": [
    "model.save(\"result.h5\")"
   ]
  },
  {
   "cell_type": "markdown",
   "metadata": {},
   "source": [
    "## Print the model accuracy and loss after retrain"
   ]
  },
  {
   "cell_type": "code",
   "execution_count": 7,
   "metadata": {},
   "outputs": [
    {
     "ename": "NameError",
     "evalue": "name 'plot_results' is not defined",
     "output_type": "error",
     "traceback": [
      "\u001b[1;31m---------------------------------------------------------------------------\u001b[0m",
      "\u001b[1;31mNameError\u001b[0m                                 Traceback (most recent call last)",
      "\u001b[1;32m<ipython-input-7-d0b4fa797312>\u001b[0m in \u001b[0;36m<module>\u001b[1;34m\u001b[0m\n\u001b[1;32m----> 1\u001b[1;33m \u001b[0mplot_results\u001b[0m\u001b[1;33m(\u001b[0m\u001b[0mhistory\u001b[0m\u001b[1;33m)\u001b[0m\u001b[1;33m\u001b[0m\u001b[1;33m\u001b[0m\u001b[0m\n\u001b[0m",
      "\u001b[1;31mNameError\u001b[0m: name 'plot_results' is not defined"
     ]
    }
   ],
   "source": [
    "plot_results(history) "
   ]
  },
  {
   "cell_type": "code",
   "execution_count": 3,
   "metadata": {},
   "outputs": [],
   "source": [
    "def check_new_videos(new_dir): \n",
    "    n = label_video_names1(new_dir)\n",
    "    test_set1 = int(len(n)) \n",
    "    make_new_video_test(len(n),new_dir)\n",
    "    test_set1, target_test1 = process_alldata_test1()\n",
    "     \n",
    "    transfer_values =  image_model_transfer.predict(image_batch)\n",
    "           \n",
    "    for name in zip(model.metrics_names, result):\n",
    "        result = model.evaluate(np.array(test_set1), np.array(target_test1))\n",
    "        if res > 0.5:\n",
    "            string = str(name) + \" Pistol Detected: \" + str(value)\n",
    "        elif res < 0.5:\n",
    "            string = str(name) + \" No Weapon Detected: \" + str(value)\n",
    "            "
   ]
  },
  {
   "cell_type": "code",
   "execution_count": 5,
   "metadata": {},
   "outputs": [],
   "source": [
    "new_data_dir = \"data\\new video\""
   ]
  },
  {
   "cell_type": "code",
   "execution_count": 6,
   "metadata": {},
   "outputs": [
    {
     "ename": "NameError",
     "evalue": "name 'label_video_names1' is not defined",
     "output_type": "error",
     "traceback": [
      "\u001b[1;31m---------------------------------------------------------------------------\u001b[0m",
      "\u001b[1;31mNameError\u001b[0m                                 Traceback (most recent call last)",
      "\u001b[1;32m<ipython-input-6-e3df0368d1e9>\u001b[0m in \u001b[0;36m<module>\u001b[1;34m\u001b[0m\n\u001b[1;32m----> 1\u001b[1;33m \u001b[0mcheck_new_videos\u001b[0m\u001b[1;33m(\u001b[0m\u001b[0mnew_data_dir\u001b[0m\u001b[1;33m)\u001b[0m\u001b[1;33m\u001b[0m\u001b[1;33m\u001b[0m\u001b[0m\n\u001b[0m",
      "\u001b[1;32m<ipython-input-3-9b6a1b253435>\u001b[0m in \u001b[0;36mcheck_new_videos\u001b[1;34m(new_dir)\u001b[0m\n\u001b[0;32m      1\u001b[0m \u001b[1;32mdef\u001b[0m \u001b[0mcheck_new_videos\u001b[0m\u001b[1;33m(\u001b[0m\u001b[0mnew_dir\u001b[0m\u001b[1;33m)\u001b[0m\u001b[1;33m:\u001b[0m\u001b[1;33m\u001b[0m\u001b[1;33m\u001b[0m\u001b[0m\n\u001b[1;32m----> 2\u001b[1;33m     \u001b[0mn\u001b[0m \u001b[1;33m=\u001b[0m \u001b[0mlabel_video_names1\u001b[0m\u001b[1;33m(\u001b[0m\u001b[0mnew_dir\u001b[0m\u001b[1;33m)\u001b[0m\u001b[1;33m\u001b[0m\u001b[1;33m\u001b[0m\u001b[0m\n\u001b[0m\u001b[0;32m      3\u001b[0m     \u001b[0mtest_set1\u001b[0m \u001b[1;33m=\u001b[0m \u001b[0mint\u001b[0m\u001b[1;33m(\u001b[0m\u001b[0mlen\u001b[0m\u001b[1;33m(\u001b[0m\u001b[0mn\u001b[0m\u001b[1;33m)\u001b[0m\u001b[1;33m)\u001b[0m\u001b[1;33m\u001b[0m\u001b[1;33m\u001b[0m\u001b[0m\n\u001b[0;32m      4\u001b[0m     \u001b[0mmake_new_video_test\u001b[0m\u001b[1;33m(\u001b[0m\u001b[0mlen\u001b[0m\u001b[1;33m(\u001b[0m\u001b[0mn\u001b[0m\u001b[1;33m)\u001b[0m\u001b[1;33m,\u001b[0m\u001b[0mnew_dir\u001b[0m\u001b[1;33m)\u001b[0m\u001b[1;33m\u001b[0m\u001b[1;33m\u001b[0m\u001b[0m\n\u001b[0;32m      5\u001b[0m     \u001b[0mtest_set1\u001b[0m\u001b[1;33m,\u001b[0m \u001b[0mtarget_test1\u001b[0m \u001b[1;33m=\u001b[0m \u001b[0mprocess_alldata_test1\u001b[0m\u001b[1;33m(\u001b[0m\u001b[1;33m)\u001b[0m\u001b[1;33m\u001b[0m\u001b[1;33m\u001b[0m\u001b[0m\n",
      "\u001b[1;31mNameError\u001b[0m: name 'label_video_names1' is not defined"
     ]
    }
   ],
   "source": [
    "check_new_videos(new_data_dir)"
   ]
  },
  {
   "cell_type": "code",
   "execution_count": null,
   "metadata": {},
   "outputs": [],
   "source": []
  },
  {
   "cell_type": "code",
   "execution_count": null,
   "metadata": {},
   "outputs": [],
   "source": []
  },
  {
   "cell_type": "code",
   "execution_count": null,
   "metadata": {},
   "outputs": [],
   "source": []
  },
  {
   "cell_type": "code",
   "execution_count": null,
   "metadata": {},
   "outputs": [],
   "source": []
  },
  {
   "cell_type": "code",
   "execution_count": null,
   "metadata": {},
   "outputs": [],
   "source": []
  }
 ],
 "metadata": {
  "accelerator": "GPU",
  "colab": {
   "collapsed_sections": [],
   "name": "ViolenceDetection22",
   "provenance": [],
   "version": "0.3.2"
  },
  "kernelspec": {
   "display_name": "Python 3",
   "language": "python",
   "name": "python3"
  },
  "language_info": {
   "codemirror_mode": {
    "name": "ipython",
    "version": 3
   },
   "file_extension": ".py",
   "mimetype": "text/x-python",
   "name": "python",
   "nbconvert_exporter": "python",
   "pygments_lexer": "ipython3",
   "version": "3.8.5"
  }
 },
 "nbformat": 4,
 "nbformat_minor": 4
}
